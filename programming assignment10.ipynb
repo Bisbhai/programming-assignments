{
 "cells": [
  {
   "cell_type": "markdown",
   "id": "89109d56-94c3-41d5-9aaf-660c5e098650",
   "metadata": {},
   "source": [
    "1. Write a Python program to find sum of elements in list?"
   ]
  },
  {
   "cell_type": "code",
   "execution_count": 1,
   "id": "89c4cb34-478d-4afa-8d36-be42994f7bba",
   "metadata": {},
   "outputs": [
    {
     "name": "stdin",
     "output_type": "stream",
     "text": [
      "Enter a list 5,3,56,4,8\n"
     ]
    },
    {
     "name": "stdout",
     "output_type": "stream",
     "text": [
      "Sum is  76\n"
     ]
    }
   ],
   "source": [
    "l=eval(input('Enter a list'))\n",
    "sum_list=0\n",
    "for i in l:\n",
    "    sum_list +=i\n",
    "    \n",
    "print('Sum is ',sum_list)   "
   ]
  },
  {
   "cell_type": "markdown",
   "id": "c82721a4-9bb3-4c79-9a59-f978fd51844b",
   "metadata": {},
   "source": [
    "2. Write a Python program to Multiply all numbers in the list?"
   ]
  },
  {
   "cell_type": "code",
   "execution_count": 2,
   "id": "c278db55-4a57-4453-82c1-0bd3e5120352",
   "metadata": {},
   "outputs": [
    {
     "name": "stdin",
     "output_type": "stream",
     "text": [
      "Enter a list 56,5,8,75,5\n"
     ]
    },
    {
     "name": "stdout",
     "output_type": "stream",
     "text": [
      "Product is  840000\n"
     ]
    }
   ],
   "source": [
    "\n",
    "l=eval(input('Enter a list'))\n",
    "multiply_list=1\n",
    "for i in l:\n",
    "    multiply_list = multiply_list * i\n",
    "    \n",
    "print('Product is ',multiply_list)    \n",
    "    \n"
   ]
  },
  {
   "cell_type": "markdown",
   "id": "b48c9d31-7744-4f84-874b-6eb5fba3e037",
   "metadata": {},
   "source": [
    "3. Write a Python program to find smallest number in a list?"
   ]
  },
  {
   "cell_type": "code",
   "execution_count": 3,
   "id": "416502d2-cad8-4fb1-ac7e-94ffea74f2e3",
   "metadata": {},
   "outputs": [
    {
     "name": "stdin",
     "output_type": "stream",
     "text": [
      "Enter a list  25,8,5,7,4,5,\n"
     ]
    },
    {
     "name": "stdout",
     "output_type": "stream",
     "text": [
      "Smallest number is  4\n"
     ]
    }
   ],
   "source": [
    "l=eval(input('Enter a list '))\n",
    "print('Smallest number is ',min(l))\n"
   ]
  },
  {
   "cell_type": "markdown",
   "id": "a723ac15-2164-4754-bf7b-da7fd003bc5d",
   "metadata": {},
   "source": [
    "4. Write a Python program to find largest number in a list?"
   ]
  },
  {
   "cell_type": "code",
   "execution_count": 4,
   "id": "4d120874-f808-4f87-9962-ba2d9caf823c",
   "metadata": {},
   "outputs": [
    {
     "name": "stdin",
     "output_type": "stream",
     "text": [
      "Enter a list  25,8,5,7,5,7,5\n"
     ]
    },
    {
     "name": "stdout",
     "output_type": "stream",
     "text": [
      "Largest number is  25\n"
     ]
    }
   ],
   "source": [
    "\n",
    "l=eval(input('Enter a list '))\n",
    "print('Largest number is ',max(l))"
   ]
  },
  {
   "cell_type": "markdown",
   "id": "781ef2cd-12db-430f-8161-588aee4b766e",
   "metadata": {},
   "source": [
    "5. Write a Python program to find second largest number in a list?"
   ]
  },
  {
   "cell_type": "code",
   "execution_count": 5,
   "id": "eaa2892d-22af-430f-8db2-8125c703ae7c",
   "metadata": {},
   "outputs": [
    {
     "name": "stdin",
     "output_type": "stream",
     "text": [
      "Enter a list  3,4,6,98,55,71,25\n"
     ]
    },
    {
     "name": "stdout",
     "output_type": "stream",
     "text": [
      "Largest number is  71\n"
     ]
    }
   ],
   "source": [
    "\n",
    "l=eval(input('Enter a list '))\n",
    "print('Largest number is ',sorted(l)[-2])"
   ]
  },
  {
   "cell_type": "markdown",
   "id": "ea9ca153-b09e-49e2-a43a-058c646f6984",
   "metadata": {},
   "source": [
    "6. Write a Python program to find N largest elements from a list?"
   ]
  },
  {
   "cell_type": "code",
   "execution_count": 6,
   "id": "e70e071d-e32d-49f0-a1cd-7b0ac6f3b844",
   "metadata": {},
   "outputs": [
    {
     "name": "stdin",
     "output_type": "stream",
     "text": [
      "Enter a list  21,2,3,2,9,2,7,256,3245\n",
      "Enter the number of largest elements you want  3\n"
     ]
    },
    {
     "name": "stdout",
     "output_type": "stream",
     "text": [
      "3 largest elements are [3245, 256, 21]\n"
     ]
    }
   ],
   "source": [
    "\n",
    "l=eval(input('Enter a list '))\n",
    "n=int(input('Enter the number of largest elements you want '))\n",
    "print(f'{n} largest elements are {sorted(l,reverse=True)[0:n]}')"
   ]
  },
  {
   "cell_type": "markdown",
   "id": "81878983-e209-4f32-ac2d-e4af48b65c48",
   "metadata": {},
   "source": [
    "7. Write a Python program to print even numbers in a list?"
   ]
  },
  {
   "cell_type": "code",
   "execution_count": 7,
   "id": "e31f968f-63e3-4d6b-8128-9ae6d21c36f9",
   "metadata": {},
   "outputs": [
    {
     "name": "stdin",
     "output_type": "stream",
     "text": [
      "Enter a list  5,63,7,8,91\n"
     ]
    },
    {
     "name": "stdout",
     "output_type": "stream",
     "text": [
      "Even numbers are  [8]\n"
     ]
    }
   ],
   "source": [
    "l=eval(input('Enter a list '))\n",
    "even_list=[]\n",
    "for i in l:\n",
    "    if i%2==0:\n",
    "        even_list.append(i)\n",
    "print(\"Even numbers are \",even_list)        \n",
    "        "
   ]
  },
  {
   "cell_type": "markdown",
   "id": "7b15b10c-60e7-4a82-a083-fa88794ce487",
   "metadata": {},
   "source": [
    "8. Write a Python program to print odd numbers in a List?"
   ]
  },
  {
   "cell_type": "code",
   "execution_count": 8,
   "id": "37c29241-42a9-4bd1-942b-5c6ca8de8357",
   "metadata": {},
   "outputs": [
    {
     "name": "stdin",
     "output_type": "stream",
     "text": [
      "Enter a list  33,38,45,2,47,8\n"
     ]
    },
    {
     "name": "stdout",
     "output_type": "stream",
     "text": [
      "Odd numbers are  [33, 45, 47]\n"
     ]
    }
   ],
   "source": [
    "l=eval(input('Enter a list '))\n",
    "odd_list=[]\n",
    "for i in l:\n",
    "    if i%2!=0:\n",
    "        odd_list.append(i)\n",
    "print(\"Odd numbers are \",odd_list) \n"
   ]
  },
  {
   "cell_type": "markdown",
   "id": "f763fdf1-77d8-449b-b1b7-9b503f1c8377",
   "metadata": {},
   "source": [
    "9. Write a Python program to Remove empty List from List?\n"
   ]
  },
  {
   "cell_type": "code",
   "execution_count": 9,
   "id": "75c61fb5-b756-4e4b-b2fe-d2e9d6676e36",
   "metadata": {},
   "outputs": [
    {
     "name": "stdin",
     "output_type": "stream",
     "text": [
      "Enter a list  4,4,7,8,9,2,14,6\n"
     ]
    },
    {
     "name": "stdout",
     "output_type": "stream",
     "text": [
      "The list  (4, 4, 7, 8, 9, 2, 14, 6)\n"
     ]
    }
   ],
   "source": [
    "l=eval(input('Enter a list '))\n",
    "for i in l:\n",
    "    if [] in l:\n",
    "        l.remove([])\n",
    "print(\"The list \",l)"
   ]
  },
  {
   "cell_type": "markdown",
   "id": "31d317ca-b917-45a1-91c4-7e54298cc394",
   "metadata": {},
   "source": [
    "10. Write a Python program to Cloning or Copying a list?"
   ]
  },
  {
   "cell_type": "code",
   "execution_count": 13,
   "id": "7bfd7831-1ce4-43f7-9485-2414aae89791",
   "metadata": {},
   "outputs": [
    {
     "name": "stdin",
     "output_type": "stream",
     "text": [
      "Enter a list  1,2,3,4,5,6\n"
     ]
    },
    {
     "name": "stdout",
     "output_type": "stream",
     "text": [
      "Original list  (1, 2, 3, 4, 5, 6)\n"
     ]
    },
    {
     "ename": "AttributeError",
     "evalue": "'tuple' object has no attribute 'copy'",
     "output_type": "error",
     "traceback": [
      "\u001b[0;31m---------------------------------------------------------------------------\u001b[0m",
      "\u001b[0;31mAttributeError\u001b[0m                            Traceback (most recent call last)",
      "Cell \u001b[0;32mIn [13], line 3\u001b[0m\n\u001b[1;32m      1\u001b[0m l\u001b[38;5;241m=\u001b[39m\u001b[38;5;28meval\u001b[39m(\u001b[38;5;28minput\u001b[39m(\u001b[38;5;124m'\u001b[39m\u001b[38;5;124mEnter a list \u001b[39m\u001b[38;5;124m'\u001b[39m))\n\u001b[1;32m      2\u001b[0m \u001b[38;5;28mprint\u001b[39m(\u001b[38;5;124m'\u001b[39m\u001b[38;5;124mOriginal list \u001b[39m\u001b[38;5;124m'\u001b[39m,l)\n\u001b[0;32m----> 3\u001b[0m copy_l\u001b[38;5;241m=\u001b[39m\u001b[43ml\u001b[49m\u001b[38;5;241;43m.\u001b[39;49m\u001b[43mcopy\u001b[49m()\n\u001b[1;32m      4\u001b[0m \u001b[38;5;28mprint\u001b[39m(\u001b[38;5;124m'\u001b[39m\u001b[38;5;124mCopied list \u001b[39m\u001b[38;5;124m'\u001b[39m,copy_l)\n",
      "\u001b[0;31mAttributeError\u001b[0m: 'tuple' object has no attribute 'copy'"
     ]
    }
   ],
   "source": [
    "l=eval(input('Enter a list '))\n",
    "print('Original list ',l)\n",
    "copy_l=l.copy()\n",
    "print('Copied list ',copy_l)\n"
   ]
  },
  {
   "cell_type": "markdown",
   "id": "2563a839-9592-4217-8ed6-7519ff5dff16",
   "metadata": {},
   "source": [
    "11. Write a Python program to Count occurrences of an element in a list?"
   ]
  },
  {
   "cell_type": "code",
   "execution_count": 14,
   "id": "30398b8a-c5c5-48c7-afea-bad3a7880827",
   "metadata": {},
   "outputs": [
    {
     "name": "stdin",
     "output_type": "stream",
     "text": [
      "Enter a list  1,2,3,4,5,6,7,89,8\n",
      "Enter the element to find  4\n"
     ]
    },
    {
     "name": "stdout",
     "output_type": "stream",
     "text": [
      "There are 1 occurrences of 4 in list (1, 2, 3, 4, 5, 6, 7, 89, 8) \n"
     ]
    }
   ],
   "source": [
    "l=eval(input('Enter a list '))\n",
    "n=int(input('Enter the element to find '))\n",
    "count=0\n",
    "if n in l:\n",
    "    for i in l:\n",
    "        if i==n:\n",
    "            count+=1\n",
    "print(f'There are {count} occurrences of {n} in list {l} ') "
   ]
  },
  {
   "cell_type": "code",
   "execution_count": null,
   "id": "65db6285-3268-41fb-953b-b6e99c361a4e",
   "metadata": {},
   "outputs": [],
   "source": []
  }
 ],
 "metadata": {
  "kernelspec": {
   "display_name": "Python 3 (ipykernel)",
   "language": "python",
   "name": "python3"
  },
  "language_info": {
   "codemirror_mode": {
    "name": "ipython",
    "version": 3
   },
   "file_extension": ".py",
   "mimetype": "text/x-python",
   "name": "python",
   "nbconvert_exporter": "python",
   "pygments_lexer": "ipython3",
   "version": "3.10.6"
  }
 },
 "nbformat": 4,
 "nbformat_minor": 5
}
