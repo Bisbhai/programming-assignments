{
 "cells": [
  {
   "cell_type": "markdown",
   "id": "514e0aeb-14ec-4ae9-868c-39b432de3afe",
   "metadata": {},
   "source": [
    "1. Write a Python Program to Add Two Matrices?"
   ]
  },
  {
   "cell_type": "code",
   "execution_count": 1,
   "id": "6a3cdd25-d9c1-4b6d-8cb3-f6c64263eaf5",
   "metadata": {},
   "outputs": [
    {
     "name": "stdin",
     "output_type": "stream",
     "text": [
      "Enter the 1st matrix :  [[1,2,3],[5,6,8],[5,4,8,]]\n",
      "Enter the 2nd matrix :  [[2,5,7],[2,8,7],[6,9,8]]\n"
     ]
    },
    {
     "name": "stdout",
     "output_type": "stream",
     "text": [
      "[3, 7, 10]\n",
      "[7, 14, 15]\n",
      "[11, 13, 16]\n"
     ]
    }
   ],
   "source": [
    "x = eval(input('Enter the 1st matrix : '))\n",
    "y = eval(input('Enter the 2nd matrix : '))\n",
    "result = [[0,0,0],\n",
    "         [0,0,0],\n",
    "         [0,0,0]]\n",
    "\n",
    "for i in range(len(x)) :\n",
    "    for j in range(len(x[0])) :\n",
    "        result[i][j]= x[i][j]+y[i][j]\n",
    "\n",
    "for r in result :\n",
    "    print(r)"
   ]
  },
  {
   "cell_type": "markdown",
   "id": "bb1e9905-4f97-4d32-85ab-cd3be5820676",
   "metadata": {},
   "source": [
    "2. Write a Python Program to Multiply Two Matrices?"
   ]
  },
  {
   "cell_type": "code",
   "execution_count": 2,
   "id": "d374379c-c77c-45b6-acea-5015523ccb0a",
   "metadata": {},
   "outputs": [
    {
     "name": "stdin",
     "output_type": "stream",
     "text": [
      "Enter the 1st matrix :  [[1,2,3],[5,6,8],[5,4,8,]]\n",
      "Enter the 2nd matrix :  [[2,5,7],[2,8,7],[6,9,8]]\n"
     ]
    },
    {
     "name": "stdout",
     "output_type": "stream",
     "text": [
      "[24, 48, 45]\n",
      "[70, 145, 141]\n",
      "[66, 129, 127]\n"
     ]
    }
   ],
   "source": [
    "x = eval(input('Enter the 1st matrix : '))\n",
    "y = eval(input('Enter the 2nd matrix : '))\n",
    "result = [[0,0,0],\n",
    "         [0,0,0],\n",
    "         [0,0,0]]\n",
    "\n",
    "for i in range(len(x)):\n",
    "    for j in range(len(y)):\n",
    "        for k in range(len(y)):\n",
    "            result[i][j] += x[i][k]*y[k][j]\n",
    "            \n",
    "for r in result:\n",
    "    print(r)"
   ]
  },
  {
   "cell_type": "markdown",
   "id": "bf349d3f-c9ec-4b67-963a-42e4ecd4ea35",
   "metadata": {},
   "source": [
    "3. Write a Python Program to Transpose a Matrix?"
   ]
  },
  {
   "cell_type": "code",
   "execution_count": 3,
   "id": "cd87cf85-c722-4e0f-bc16-5919fe92a6df",
   "metadata": {},
   "outputs": [
    {
     "name": "stdin",
     "output_type": "stream",
     "text": [
      "Enter a matrix :  [[2,5,7],[2,8,7],[6,9,8]]\n"
     ]
    },
    {
     "name": "stdout",
     "output_type": "stream",
     "text": [
      "[2, 2, 6]\n",
      "[5, 8, 9]\n",
      "[7, 7, 8]\n"
     ]
    }
   ],
   "source": [
    "\n",
    "x = eval(input('Enter a matrix : '))\n",
    "result=[[0,0,0],\n",
    "  [0,0,0],\n",
    "  [0,0,0]]\n",
    "for i in range(len(x)):\n",
    "    for j in range(len(x)):\n",
    "        result[i][j]=x[j][i]\n",
    "\n",
    "for r in result:\n",
    "    print(r)"
   ]
  },
  {
   "cell_type": "markdown",
   "id": "cd12c815-495b-4dd3-9097-3ae06c7f89f3",
   "metadata": {},
   "source": [
    "4. Write a Python Program to Sort Words in Alphabetic Order?"
   ]
  },
  {
   "cell_type": "code",
   "execution_count": 4,
   "id": "9da3caa9-f84b-41f6-b8dd-b7f5727781a0",
   "metadata": {},
   "outputs": [
    {
     "name": "stdin",
     "output_type": "stream",
     "text": [
      "Enter a strig :  Ineuron Full Stack Data Science Bootcamp\n"
     ]
    },
    {
     "name": "stdout",
     "output_type": "stream",
     "text": [
      "Bootcamp Data Full Ineuron Science Stack\n"
     ]
    }
   ],
   "source": [
    "\n",
    "string = input('Enter a strig : ')\n",
    "sort=sorted(string.split(' '))\n",
    "print(' '.join(sort))\n"
   ]
  },
  {
   "cell_type": "markdown",
   "id": "7f44f71d-b81c-4967-8d3b-63771bb64a3a",
   "metadata": {},
   "source": [
    "5. Write a Python Program to Remove Punctuation From a String?"
   ]
  },
  {
   "cell_type": "code",
   "execution_count": 7,
   "id": "36d7eca2-d2f9-4a16-9728-5e1f562ddf44",
   "metadata": {},
   "outputs": [
    {
     "name": "stdin",
     "output_type": "stream",
     "text": [
      "Enter a string :  Ineuron Full Stack Data Science Bootcamp\n"
     ]
    },
    {
     "name": "stdout",
     "output_type": "stream",
     "text": [
      "Ineuron Full Stack Data Science Bootcamp\n"
     ]
    }
   ],
   "source": [
    "\n",
    "punc = '''~!@#$%^&''*()_:;,.\"\"<>?{}`'''\n",
    "string = input('Enter a string : ')\n",
    "l=''\n",
    "for i in string :\n",
    "    if i not in punc :\n",
    "        l += i \n",
    "print(l)        "
   ]
  },
  {
   "cell_type": "code",
   "execution_count": null,
   "id": "cffb8a74-8489-4408-af81-7cb6d687ea45",
   "metadata": {},
   "outputs": [],
   "source": []
  }
 ],
 "metadata": {
  "kernelspec": {
   "display_name": "Python 3 (ipykernel)",
   "language": "python",
   "name": "python3"
  },
  "language_info": {
   "codemirror_mode": {
    "name": "ipython",
    "version": 3
   },
   "file_extension": ".py",
   "mimetype": "text/x-python",
   "name": "python",
   "nbconvert_exporter": "python",
   "pygments_lexer": "ipython3",
   "version": "3.10.6"
  }
 },
 "nbformat": 4,
 "nbformat_minor": 5
}
