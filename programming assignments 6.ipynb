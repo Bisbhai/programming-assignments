{
 "cells": [
  {
   "cell_type": "markdown",
   "id": "c38482b7-8195-4826-839c-698ae48d683f",
   "metadata": {},
   "source": [
    "1. Write a Python Program to Display Fibonacci Sequence Using Recursion?"
   ]
  },
  {
   "cell_type": "code",
   "execution_count": 1,
   "id": "80036ef2-7246-4404-ae7a-9964ce2ead04",
   "metadata": {},
   "outputs": [
    {
     "name": "stdin",
     "output_type": "stream",
     "text": [
      "Enter no.of terms :  6\n"
     ]
    },
    {
     "name": "stdout",
     "output_type": "stream",
     "text": [
      "0,1,1,2,3,5,"
     ]
    }
   ],
   "source": [
    "def recur_fibo(n):\n",
    "    if n<=1:\n",
    "        return n\n",
    "    else:\n",
    "        return (recur_fibo(n-1)+recur_fibo(n-2))\n",
    "\n",
    "nterm=int(input('Enter no.of terms : '))\n",
    "\n",
    "if nterm<=0:\n",
    "    print('Please enter positive number')\n",
    "else:\n",
    "    for i in range(nterm):\n",
    "        print(recur_fibo(i),end=',')\n",
    "        "
   ]
  },
  {
   "cell_type": "markdown",
   "id": "6172615f-088a-4655-a6e9-d50166adb967",
   "metadata": {},
   "source": [
    "2. Write a Python Program to Find Factorial of Number Using Recursion?"
   ]
  },
  {
   "cell_type": "code",
   "execution_count": 2,
   "id": "afef28b1-04c1-4bae-ba9a-15921385bf98",
   "metadata": {},
   "outputs": [
    {
     "name": "stdin",
     "output_type": "stream",
     "text": [
      "Enter a number :  5\n"
     ]
    },
    {
     "name": "stdout",
     "output_type": "stream",
     "text": [
      "factorial of 5 is 120\n"
     ]
    }
   ],
   "source": [
    "def factorial(n):\n",
    "    if n<=1:\n",
    "        return n\n",
    "    else :\n",
    "        return (n * factorial(n-1))\n",
    "\n",
    "ntr=int(input('Enter a number : '))\n",
    "if ntr<0:\n",
    "    print('Enter a positive number')\n",
    "else:\n",
    "    print(f'factorial of {ntr} is',factorial(ntr))\n"
   ]
  },
  {
   "cell_type": "markdown",
   "id": "4ac78f34-4b8f-4b44-8839-32e1efecd72a",
   "metadata": {},
   "source": [
    "3. Write a Python Program to calculate your Body Mass Index?"
   ]
  },
  {
   "cell_type": "code",
   "execution_count": 3,
   "id": "9d809894-4a57-469e-9cc1-ba15696e7e2f",
   "metadata": {},
   "outputs": [
    {
     "name": "stdin",
     "output_type": "stream",
     "text": [
      "Enter weight in kilograms(kgs) :  62\n",
      "Enter height in meters(mts) :  168\n"
     ]
    },
    {
     "name": "stdout",
     "output_type": "stream",
     "text": [
      "BMI : 0.0021967120181405897 and status : Underweight\n"
     ]
    }
   ],
   "source": [
    "def BMI_cal(w,h):\n",
    "    bmi = w/(h*h)\n",
    "    \n",
    "    if bmi < 18.5 :\n",
    "        print(f'BMI : {bmi} and status : Underweight')\n",
    "    elif bmi >= 18.5 and bmi < 24.9 :\n",
    "        print(f'BMI : {bmi} and status : Healthy')\n",
    "    elif bmi >=24.9 and bmi < 30 :\n",
    "        print(f'BMI : {bmi} and status : Overweight')\n",
    "    elif bmi >= 30:\n",
    "        print(f'BMI : {bmi} and status : Obesity')\n",
    "\n",
    "wt = float(input('Enter weight in kilograms(kgs) : '))\n",
    "ht = float(input('Enter height in meters(mts) : '))\n",
    "\n",
    "BMI_cal(wt,ht)\n"
   ]
  },
  {
   "cell_type": "markdown",
   "id": "d1d45138-d6dc-4a3e-9222-f7d26baa42f8",
   "metadata": {},
   "source": [
    "4. Write a Python Program to calculate the natural logarithm of any number?"
   ]
  },
  {
   "cell_type": "code",
   "execution_count": 4,
   "id": "085caaa1-f512-49d3-add3-bc7f909e52d7",
   "metadata": {},
   "outputs": [
    {
     "name": "stdin",
     "output_type": "stream",
     "text": [
      "Enter a number 5\n"
     ]
    },
    {
     "name": "stdout",
     "output_type": "stream",
     "text": [
      "log of 5 = 1.6094379124341003\n"
     ]
    }
   ],
   "source": [
    "import math\n",
    "def loga():\n",
    "    num=eval(input('Enter a number'))\n",
    "    print(f'log of {num} =' ,math.log(num))\n",
    "\n",
    "loga()    \n"
   ]
  },
  {
   "cell_type": "markdown",
   "id": "13348335-af50-40aa-be7f-cfc7b6f1c202",
   "metadata": {},
   "source": [
    "5. Write a Python Program for cube sum of first n natural numbers?"
   ]
  },
  {
   "cell_type": "code",
   "execution_count": 5,
   "id": "6a758790-3b97-4469-b459-30d68e904296",
   "metadata": {},
   "outputs": [
    {
     "name": "stdin",
     "output_type": "stream",
     "text": [
      "Enter a number :  6\n"
     ]
    },
    {
     "name": "stdout",
     "output_type": "stream",
     "text": [
      "Cube sum of first 6 natural numbers is 441\n"
     ]
    }
   ],
   "source": [
    "n=int(input('Enter a number : '))\n",
    "s=0\n",
    "for i in range(1,n+1):\n",
    "    s += pow(i,3)\n",
    "print(f'Cube sum of first {n} natural numbers is {s}')    \n"
   ]
  },
  {
   "cell_type": "code",
   "execution_count": null,
   "id": "77fd788e-9453-4244-a36b-1e9922b5a101",
   "metadata": {},
   "outputs": [],
   "source": []
  }
 ],
 "metadata": {
  "kernelspec": {
   "display_name": "Python 3 (ipykernel)",
   "language": "python",
   "name": "python3"
  },
  "language_info": {
   "codemirror_mode": {
    "name": "ipython",
    "version": 3
   },
   "file_extension": ".py",
   "mimetype": "text/x-python",
   "name": "python",
   "nbconvert_exporter": "python",
   "pygments_lexer": "ipython3",
   "version": "3.10.6"
  }
 },
 "nbformat": 4,
 "nbformat_minor": 5
}
