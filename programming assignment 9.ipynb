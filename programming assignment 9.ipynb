{
 "cells": [
  {
   "cell_type": "markdown",
   "id": "f372fec6-4d65-4f89-80ab-7f95db20bc85",
   "metadata": {},
   "source": [
    "1. Write a Python program to check if the given number is a Disarium Number?"
   ]
  },
  {
   "cell_type": "code",
   "execution_count": 1,
   "id": "057aadd6-3cd5-45be-a742-ad8a42fa49a4",
   "metadata": {},
   "outputs": [
    {
     "name": "stdin",
     "output_type": "stream",
     "text": [
      "Enter a number :  5\n"
     ]
    },
    {
     "name": "stdout",
     "output_type": "stream",
     "text": [
      "5 is a disarium number.\n"
     ]
    },
    {
     "name": "stdin",
     "output_type": "stream",
     "text": [
      "Enter a number :  36\n"
     ]
    },
    {
     "name": "stdout",
     "output_type": "stream",
     "text": [
      "36 is not a disarium number.\n"
     ]
    }
   ],
   "source": [
    "def disarium_num():\n",
    "    num=input('Enter a number : ')\n",
    "\n",
    "    result = 0\n",
    "    for i in range(len(num)):\n",
    "            result += int(num[i])**(i+1)\n",
    "    if int(num) == result:\n",
    "        print(f'{num} is a disarium number.')\n",
    "    else:\n",
    "        print(f'{num} is not a disarium number.')\n",
    "        \n",
    "disarium_num()\n",
    "disarium_num()\n"
   ]
  },
  {
   "cell_type": "markdown",
   "id": "4f33e500-66a1-4c57-bdca-919ab5aef908",
   "metadata": {},
   "source": [
    "2. Write a Python program to print all disarium numbers between 1 to 100?\n"
   ]
  },
  {
   "cell_type": "code",
   "execution_count": 2,
   "id": "8cacb266-bb4d-4193-9948-c924fbf633f9",
   "metadata": {},
   "outputs": [
    {
     "name": "stdin",
     "output_type": "stream",
     "text": [
      "Enter a number :  58\n"
     ]
    },
    {
     "name": "stdout",
     "output_type": "stream",
     "text": [
      "Disarium numbers from 1 to 100 : [1, 2, 3, 4, 5, 6, 7, 8, 9]\n"
     ]
    }
   ],
   "source": [
    "def find_disarium():\n",
    "    num = input('Enter a number : ')\n",
    "    l=[]\n",
    "    for n in range(1,int(num)+1):\n",
    "        n=str(n)\n",
    "        result=0\n",
    "        for i in range(len(n)):\n",
    "            result+=int(n[i])**(i+1)\n",
    "        if result==int(n):\n",
    "            l.append(result)\n",
    "    print(f'Disarium numbers from 1 to 100 : {l}')\n",
    "    \n",
    "find_disarium()"
   ]
  },
  {
   "cell_type": "code",
   "execution_count": null,
   "id": "5b82cd8d-8dc9-47e0-8f31-f67fea0d402f",
   "metadata": {},
   "outputs": [],
   "source": []
  },
  {
   "cell_type": "code",
   "execution_count": null,
   "id": "63893d45-3328-413b-a440-95e96faed4fd",
   "metadata": {},
   "outputs": [],
   "source": []
  },
  {
   "cell_type": "code",
   "execution_count": null,
   "id": "d6313e22-f614-4442-91e6-260835785285",
   "metadata": {},
   "outputs": [],
   "source": []
  }
 ],
 "metadata": {
  "kernelspec": {
   "display_name": "Python 3 (ipykernel)",
   "language": "python",
   "name": "python3"
  },
  "language_info": {
   "codemirror_mode": {
    "name": "ipython",
    "version": 3
   },
   "file_extension": ".py",
   "mimetype": "text/x-python",
   "name": "python",
   "nbconvert_exporter": "python",
   "pygments_lexer": "ipython3",
   "version": "3.10.6"
  }
 },
 "nbformat": 4,
 "nbformat_minor": 5
}
