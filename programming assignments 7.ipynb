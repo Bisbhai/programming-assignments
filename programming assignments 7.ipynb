{
 "cells": [
  {
   "cell_type": "markdown",
   "id": "1928864f-50c6-448a-9156-558b6627d853",
   "metadata": {},
   "source": [
    "1. Write a Python Program to find sum of array?"
   ]
  },
  {
   "cell_type": "code",
   "execution_count": 1,
   "id": "4f414fd4-1067-481c-b718-d5dbdc9dcb09",
   "metadata": {},
   "outputs": [
    {
     "name": "stdin",
     "output_type": "stream",
     "text": [
      "enter the array :  2,3,5,6,8\n"
     ]
    },
    {
     "name": "stdout",
     "output_type": "stream",
     "text": [
      "The sum of (2, 3, 5, 6, 8) is 24\n"
     ]
    }
   ],
   "source": [
    "arr=eval(input('enter the array : '))\n",
    "print(f'The sum of {arr} is {sum(arr)}')"
   ]
  },
  {
   "cell_type": "markdown",
   "id": "e3e72dc4-fea8-4a82-8fed-c7d1ee32e6b2",
   "metadata": {},
   "source": [
    "2. Write a Python Program to find largest element in an array?"
   ]
  },
  {
   "cell_type": "code",
   "execution_count": 2,
   "id": "432c69bd-46bd-4c67-9e35-8d97fd5de2ac",
   "metadata": {},
   "outputs": [
    {
     "name": "stdin",
     "output_type": "stream",
     "text": [
      "Enter the array :  5,6,8,12,356\n"
     ]
    },
    {
     "name": "stdout",
     "output_type": "stream",
     "text": [
      "The largest element in array (5, 6, 8, 12, 356) is 356\n"
     ]
    }
   ],
   "source": [
    "ar=eval(input('Enter the array : '))\n",
    "print(f'The largest element in array {ar} is {max(ar)}')"
   ]
  },
  {
   "cell_type": "markdown",
   "id": "da18f240-a6f3-4fdc-a61f-705431e3b91d",
   "metadata": {},
   "source": [
    "3. Write a Python Program for array rotation?"
   ]
  },
  {
   "cell_type": "code",
   "execution_count": null,
   "id": "399ec669-7225-42a6-88c5-47e9954ff096",
   "metadata": {},
   "outputs": [],
   "source": [
    "\n",
    "ar = eval(input('Enter the array : '))\n",
    "print(f'Before rotation : {ar} , After rotation : {ar[::-1]}')"
   ]
  },
  {
   "cell_type": "code",
   "execution_count": null,
   "id": "653bfe68-350d-49fc-b8f7-a78f63abb6d6",
   "metadata": {},
   "outputs": [],
   "source": []
  },
  {
   "cell_type": "code",
   "execution_count": null,
   "id": "9f339b50-dd0a-4a7e-832e-ce450dbb630d",
   "metadata": {},
   "outputs": [],
   "source": []
  }
 ],
 "metadata": {
  "kernelspec": {
   "display_name": "Python 3 (ipykernel)",
   "language": "python",
   "name": "python3"
  },
  "language_info": {
   "codemirror_mode": {
    "name": "ipython",
    "version": 3
   },
   "file_extension": ".py",
   "mimetype": "text/x-python",
   "name": "python",
   "nbconvert_exporter": "python",
   "pygments_lexer": "ipython3",
   "version": "3.10.6"
  }
 },
 "nbformat": 4,
 "nbformat_minor": 5
}
