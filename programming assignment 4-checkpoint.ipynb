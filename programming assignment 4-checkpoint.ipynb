{
 "cells": [
  {
   "cell_type": "markdown",
   "id": "390a74c5",
   "metadata": {},
   "source": [
    "1.Write a Python Program to Find the Factorial of a Number?\n"
   ]
  },
  {
   "cell_type": "code",
   "execution_count": 3,
   "id": "49ea1654",
   "metadata": {},
   "outputs": [
    {
     "name": "stdout",
     "output_type": "stream",
     "text": [
      "enter a number - 5\n",
      "the factorial of given number is  120\n"
     ]
    }
   ],
   "source": [
    "a=int(input(\"enter a number - \"))\n",
    "b=1\n",
    "for i in range(1,a+1):\n",
    "    b=b*i\n",
    "print(\"the factorial of given number is \",b)    "
   ]
  },
  {
   "cell_type": "markdown",
   "id": "ad062788",
   "metadata": {},
   "source": [
    "2.Write a Python Program to Display the multiplication Table?\n"
   ]
  },
  {
   "cell_type": "code",
   "execution_count": 5,
   "id": "bffe0c26",
   "metadata": {},
   "outputs": [
    {
     "name": "stdout",
     "output_type": "stream",
     "text": [
      "enter a number - 5\n",
      "the multiplication table of the number 5 is :\n",
      "5\n",
      "10\n",
      "15\n",
      "20\n",
      "25\n",
      "30\n",
      "35\n",
      "40\n",
      "45\n",
      "50\n"
     ]
    }
   ],
   "source": [
    "a=int(input(\"enter a number - \"))\n",
    "print(\"the multiplication table of the number\",a,\"is :\")\n",
    "for i in range(1,11):\n",
    "    print(a*i)"
   ]
  },
  {
   "cell_type": "markdown",
   "id": "98245c96",
   "metadata": {},
   "source": [
    "3.Write a Python Program to Print the Fibonacci sequence?\n"
   ]
  },
  {
   "cell_type": "code",
   "execution_count": 11,
   "id": "da1f5db6",
   "metadata": {},
   "outputs": [
    {
     "name": "stdout",
     "output_type": "stream",
     "text": [
      "enter no of terms - 5\n",
      "Fibonacci sequence:\n",
      "0\n",
      "1\n",
      "1\n",
      "2\n",
      "3\n"
     ]
    }
   ],
   "source": [
    "a = int(input(\"enter no of terms - \"))\n",
    "b,c = 0, 1\n",
    "count = 0\n",
    "if a<= 0:\n",
    "    print(\"Please enter a positive integer\")\n",
    "elif a== 1:\n",
    "    print(\"Fibonacci sequence upto\",nterms,\":\")\n",
    "    print(b)\n",
    "else:\n",
    "    print(\"Fibonacci sequence:\")\n",
    "    while count<a:\n",
    "        print(b)\n",
    "        d= b+c\n",
    "        b = c\n",
    "        c = d\n",
    "        count += 1"
   ]
  },
  {
   "cell_type": "markdown",
   "id": "6a9e2c10",
   "metadata": {},
   "source": [
    "4.Write a Python Program to Check Armstrong Number?\n"
   ]
  },
  {
   "cell_type": "code",
   "execution_count": 12,
   "id": "a0361537",
   "metadata": {},
   "outputs": [
    {
     "name": "stdout",
     "output_type": "stream",
     "text": [
      "Enter a number: 407\n",
      "407 is an Armstrong number\n"
     ]
    }
   ],
   "source": [
    "a=int(input(\"Enter a number: \"))\n",
    "sum = 0\n",
    "temp = a\n",
    "while temp > 0:\n",
    "    digit = temp % 10\n",
    "    sum += digit ** 3\n",
    "    temp //= 10\n",
    "if a == sum:\n",
    "    print(a,\"is an Armstrong number\")\n",
    "else:\n",
    "    print(a,\"is not an Armstrong number\")"
   ]
  },
  {
   "cell_type": "markdown",
   "id": "cf4a972f",
   "metadata": {},
   "source": [
    "5.Write a Python Program to Find Armstrong Number in an Interval?\n"
   ]
  },
  {
   "cell_type": "code",
   "execution_count": 16,
   "id": "8806e5f6",
   "metadata": {},
   "outputs": [
    {
     "name": "stdout",
     "output_type": "stream",
     "text": [
      "enter lower limit of the interval - 100\n",
      "enter upper limit of the interval - 2000\n",
      "153\n",
      "370\n",
      "371\n",
      "407\n",
      "1634\n"
     ]
    }
   ],
   "source": [
    "a=int(input(\"enter lower limit of the interval - \"))\n",
    "b=int(input(\"enter upper limit of the interval - \"))\n",
    "for c in range(a,b+1):\n",
    "    order = len(str(c))\n",
    "    sum=0\n",
    "    temp=c\n",
    "    while temp>0:\n",
    "        digit=temp % 10\n",
    "        sum += digit**order\n",
    "        temp//= 10\n",
    "    if c== sum:\n",
    "         print(c)"
   ]
  },
  {
   "cell_type": "markdown",
   "id": "ddc91b1a",
   "metadata": {},
   "source": [
    "6.Write a Python Program to Find the Sum of Natural Numbers?"
   ]
  },
  {
   "cell_type": "code",
   "execution_count": 24,
   "id": "a8918749",
   "metadata": {},
   "outputs": [
    {
     "name": "stdout",
     "output_type": "stream",
     "text": [
      "enter a number upto which sum is to be calculated - 3\n",
      "the sum of numbers till  3 is 6.0\n"
     ]
    }
   ],
   "source": [
    "a=int(input(\"enter a number upto which sum is to be calculated - \"))\n",
    "if a<0:\n",
    "    print(\"Enter a positive number\")\n",
    "else:\n",
    "    print(\"the sum of numbers till \",a,\"is\",a*(a+1)/2 )"
   ]
  },
  {
   "cell_type": "code",
   "execution_count": null,
   "id": "3e4cca67",
   "metadata": {},
   "outputs": [],
   "source": []
  }
 ],
 "metadata": {
  "kernelspec": {
   "display_name": "Python 3 (ipykernel)",
   "language": "python",
   "name": "python3"
  },
  "language_info": {
   "codemirror_mode": {
    "name": "ipython",
    "version": 3
   },
   "file_extension": ".py",
   "mimetype": "text/x-python",
   "name": "python",
   "nbconvert_exporter": "python",
   "pygments_lexer": "ipython3",
   "version": "3.9.12"
  }
 },
 "nbformat": 4,
 "nbformat_minor": 5
}
