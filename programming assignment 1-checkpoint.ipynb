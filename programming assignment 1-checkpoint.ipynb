{
 "cells": [
  {
   "cell_type": "markdown",
   "id": "019196c2",
   "metadata": {},
   "source": [
    "1.Write a Python program to print \"Hello Python\"?\n"
   ]
  },
  {
   "cell_type": "code",
   "execution_count": 3,
   "id": "49f4a932",
   "metadata": {},
   "outputs": [
    {
     "name": "stdout",
     "output_type": "stream",
     "text": [
      "Hello python\n"
     ]
    }
   ],
   "source": [
    "print (\"Hello python\")"
   ]
  },
  {
   "cell_type": "markdown",
   "id": "e813e8d7",
   "metadata": {},
   "source": [
    "2.Write a Python program to do arithmetical operations addition and division.?\n"
   ]
  },
  {
   "cell_type": "code",
   "execution_count": 4,
   "id": "7ebfddb0",
   "metadata": {},
   "outputs": [
    {
     "name": "stdout",
     "output_type": "stream",
     "text": [
      "enter first number for addition or division\n",
      "25\n",
      "enter second number for addition or division\n",
      "5\n",
      "addition is 30\n",
      "division is 5.0\n"
     ]
    }
   ],
   "source": [
    "print (\"enter first number for addition or division\")\n",
    "a=int(input())\n",
    "print (\"enter second number for addition or division\")\n",
    "b=int(input())\n",
    "print(\"addition is\",a+b)\n",
    "print(\"division is\",a/b)\n"
   ]
  },
  {
   "cell_type": "markdown",
   "id": "a2681840",
   "metadata": {},
   "source": [
    "3.Write a Python program to find the area of a triangle?\n"
   ]
  },
  {
   "cell_type": "code",
   "execution_count": 6,
   "id": "a6bd92f3",
   "metadata": {},
   "outputs": [],
   "source": [
    "import math"
   ]
  },
  {
   "cell_type": "code",
   "execution_count": 9,
   "id": "fd8947fd",
   "metadata": {},
   "outputs": [
    {
     "name": "stdout",
     "output_type": "stream",
     "text": [
      "enter first side:4\n",
      "enter second side:5\n",
      "enter third side:3\n",
      "area of triangle is : 6.0\n"
     ]
    }
   ],
   "source": [
    "a=float(input(\"enter first side:\"))\n",
    "b=float(input(\"enter second side:\"))\n",
    "c=float(input(\"enter third side:\"))\n",
    "s=(a+b+c)/2\n",
    "A=math.sqrt((s*(s-a)*(s-b)*(s-c)))\n",
    "print(\"area of triangle is :\", A)"
   ]
  },
  {
   "cell_type": "markdown",
   "id": "4c62942f",
   "metadata": {},
   "source": [
    "4.Write a Python program to swap two variables?\n"
   ]
  },
  {
   "cell_type": "code",
   "execution_count": 12,
   "id": "a3e26dc7",
   "metadata": {},
   "outputs": [
    {
     "name": "stdout",
     "output_type": "stream",
     "text": [
      "enter first number:4\n",
      "enter second number:5\n",
      "the numbers are : 4.0 and 5.0\n",
      "the numbers after swapping is : 5.0 and 4.0\n"
     ]
    }
   ],
   "source": [
    "a=float(input(\"enter first number:\"))\n",
    "b=float(input(\"enter second number:\"))\n",
    "print(\"the numbers are :\",a,\"and\",b)\n",
    "c=a\n",
    "a=b\n",
    "b=c\n",
    "\n",
    "print(\"the numbers after swapping is :\",a,\"and\",b)\n"
   ]
  },
  {
   "cell_type": "markdown",
   "id": "bb84e46e",
   "metadata": {},
   "source": [
    "5.Write a Python program to generate a random number?"
   ]
  },
  {
   "cell_type": "code",
   "execution_count": 18,
   "id": "03d73278",
   "metadata": {},
   "outputs": [
    {
     "name": "stdout",
     "output_type": "stream",
     "text": [
      "0.963671152110704\n"
     ]
    }
   ],
   "source": [
    "import random\n",
    "a=random.random()\n",
    "print(a)"
   ]
  },
  {
   "cell_type": "code",
   "execution_count": null,
   "id": "febc6679",
   "metadata": {},
   "outputs": [],
   "source": []
  },
  {
   "cell_type": "code",
   "execution_count": null,
   "id": "fe9d49c3",
   "metadata": {},
   "outputs": [],
   "source": []
  }
 ],
 "metadata": {
  "kernelspec": {
   "display_name": "Python 3 (ipykernel)",
   "language": "python",
   "name": "python3"
  },
  "language_info": {
   "codemirror_mode": {
    "name": "ipython",
    "version": 3
   },
   "file_extension": ".py",
   "mimetype": "text/x-python",
   "name": "python",
   "nbconvert_exporter": "python",
   "pygments_lexer": "ipython3",
   "version": "3.9.12"
  }
 },
 "nbformat": 4,
 "nbformat_minor": 5
}
