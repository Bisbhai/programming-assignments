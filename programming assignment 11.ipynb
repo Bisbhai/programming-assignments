{
 "cells": [
  {
   "cell_type": "markdown",
   "id": "a091cb74-85f0-4a29-96d5-9fab6807dbc2",
   "metadata": {},
   "source": [
    "1. Write a Python program to find words which are greater than given length k?"
   ]
  },
  {
   "cell_type": "code",
   "execution_count": 3,
   "id": "cf02f9c5-444a-4559-8fcb-85fb253b9c47",
   "metadata": {},
   "outputs": [
    {
     "name": "stdin",
     "output_type": "stream",
     "text": [
      "Enter a string :  bis bhai is goood boy\n",
      "Enter the length of word :  4\n"
     ]
    },
    {
     "name": "stdout",
     "output_type": "stream",
     "text": [
      "goood\n"
     ]
    }
   ],
   "source": [
    "string = input('Enter a string : ')\n",
    "length = int(input('Enter the length of word : '))\n",
    "l=[]\n",
    "for i in string.split(' '):\n",
    "    if len(i)>length:\n",
    "        l.append(i)\n",
    "        \n",
    "print(', '.join(l))"
   ]
  },
  {
   "cell_type": "markdown",
   "id": "8117b437-300e-4961-a203-398632c4b313",
   "metadata": {},
   "source": [
    "2. Write a Python program for removing i-th character from a string?   "
   ]
  },
  {
   "cell_type": "code",
   "execution_count": 4,
   "id": "11322783-367a-4445-bb36-96127988feeb",
   "metadata": {},
   "outputs": [
    {
     "name": "stdin",
     "output_type": "stream",
     "text": [
      "Enter a string :  bis bhai is good boy\n",
      "Enter i-th character :  8\n"
     ]
    },
    {
     "name": "stdout",
     "output_type": "stream",
     "text": [
      "bis bhaiis good boy\n"
     ]
    }
   ],
   "source": [
    "string = input('Enter a string : ')\n",
    "i = int(input('Enter i-th character : '))\n",
    "s=''              \n",
    "for n in range(len(string)):\n",
    "     if n!=i:\n",
    "        s+=(string[n])\n",
    "print(s)  "
   ]
  },
  {
   "cell_type": "markdown",
   "id": "ea9a8a86-158b-4f43-9bca-34816eb5345d",
   "metadata": {},
   "source": [
    "3. Write a Python program to split and join a string?"
   ]
  },
  {
   "cell_type": "code",
   "execution_count": 5,
   "id": "ee7ee2cb-d124-45ab-a5ad-c50adf9862d9",
   "metadata": {},
   "outputs": [
    {
     "name": "stdin",
     "output_type": "stream",
     "text": [
      "Enter a string bis bhai is good boy\n"
     ]
    },
    {
     "name": "stdout",
     "output_type": "stream",
     "text": [
      "Split : ['bis', 'bhai', 'is', 'good', 'boy']\n",
      "Join : bis bhai is good boy\n"
     ]
    }
   ],
   "source": [
    "string = input('Enter a string')\n",
    "print('Split :', string.split(' '))\n",
    "print('Join :', ' '.join(string.split(' ')))"
   ]
  },
  {
   "cell_type": "markdown",
   "id": "5ea2dfbd-8f2d-454e-900a-8556583e6710",
   "metadata": {},
   "source": [
    "4. Write a Python to check if a given string is binary string or not?"
   ]
  },
  {
   "cell_type": "code",
   "execution_count": 6,
   "id": "dcc635ea-6b9c-4ffd-a848-7f4f366f5aaf",
   "metadata": {},
   "outputs": [
    {
     "name": "stdin",
     "output_type": "stream",
     "text": [
      "Enter a string :  bis bhai is good boy\n"
     ]
    },
    {
     "name": "stdout",
     "output_type": "stream",
     "text": [
      "bis bhai is good boy is not binary.\n"
     ]
    },
    {
     "name": "stdin",
     "output_type": "stream",
     "text": [
      "Enter a string :  1010101\n"
     ]
    },
    {
     "name": "stdout",
     "output_type": "stream",
     "text": [
      "1010101 is binary.\n"
     ]
    }
   ],
   "source": [
    "def is_binary():\n",
    "    \n",
    "    num = input('Enter a string : ')\n",
    "    stat=0\n",
    "    for i in num:\n",
    "        if i in ['1','0']:\n",
    "            stat=1\n",
    "            continue\n",
    "        else:\n",
    "            stat=0\n",
    "            break\n",
    "    if stat==1:\n",
    "        print(f'{num} is binary.')\n",
    "    else:\n",
    "        print(f'{num} is not binary.')\n",
    "\n",
    "for i in range(2):\n",
    "    is_binary()"
   ]
  },
  {
   "cell_type": "markdown",
   "id": "67151e7c-8049-48e4-8aa4-4e463c898952",
   "metadata": {},
   "source": [
    "5. Write a Python program to find uncommon words from two Strings?"
   ]
  },
  {
   "cell_type": "code",
   "execution_count": 7,
   "id": "3636f1dd-7d75-41b1-bb60-d0f4c4126dad",
   "metadata": {},
   "outputs": [
    {
     "name": "stdin",
     "output_type": "stream",
     "text": [
      "Enter the String 1:  bis bhai is good boy\n",
      "Enter the String 2:  bis bhai is samrt\n"
     ]
    },
    {
     "name": "stdout",
     "output_type": "stream",
     "text": [
      "{'boy', 'good', 'samrt'}\n"
     ]
    }
   ],
   "source": [
    "string_1 = set(input(\"Enter the String 1: \").split(' '))\n",
    "string_2 = set(input(\"Enter the String 2: \").split(' '))\n",
    "string = (string_1.union(string_2)).difference(string_1.intersection(string_2))\n",
    "print(string)"
   ]
  },
  {
   "cell_type": "markdown",
   "id": "639ae8f3-754a-456b-869f-11667a0c562a",
   "metadata": {},
   "source": [
    "6. Write a Python to find all duplicate characters in string?"
   ]
  },
  {
   "cell_type": "code",
   "execution_count": 8,
   "id": "02b74ac2-9229-479f-b479-ce8d8c1cdf55",
   "metadata": {},
   "outputs": [
    {
     "name": "stdin",
     "output_type": "stream",
     "text": [
      "Enter a string :  bis bhai is good boy\n"
     ]
    },
    {
     "name": "stdout",
     "output_type": "stream",
     "text": [
      "Duplicates :  ['b', 'i', 's', ' ', 'h', 'a', 'g', 'o', 'd', 'y']\n"
     ]
    }
   ],
   "source": [
    "string = input('Enter a string : ')\n",
    "duplicate=[]\n",
    "for i in string:\n",
    "    if i not in duplicate:\n",
    "        duplicate.append(i)\n",
    "print('Duplicates : ',duplicate)"
   ]
  },
  {
   "cell_type": "markdown",
   "id": "3d938a63-b45e-4eec-aa5e-fb58f9c81685",
   "metadata": {},
   "source": [
    "7. Write a Python Program to check if a string contains any special character?    "
   ]
  },
  {
   "cell_type": "code",
   "execution_count": 9,
   "id": "80242e82-8644-4ea9-ac4d-78f290d8998a",
   "metadata": {},
   "outputs": [
    {
     "name": "stdin",
     "output_type": "stream",
     "text": [
      "Enter a string :  bis bhai is good boy\n"
     ]
    },
    {
     "name": "stdout",
     "output_type": "stream",
     "text": [
      "There is no special character in string bis bhai is good boy\n"
     ]
    },
    {
     "name": "stdin",
     "output_type": "stream",
     "text": [
      "Enter a string :  bis@bhai\n"
     ]
    },
    {
     "name": "stdout",
     "output_type": "stream",
     "text": [
      "There is a special character in string bis@bhai\n"
     ]
    }
   ],
   "source": [
    "def check_char():\n",
    "    \n",
    "    spl_char='[`~!@#$%^&*()_<>?/;:|\\]'\n",
    "    string = input('Enter a string : ')\n",
    "    count=0\n",
    "    for i in string:\n",
    "        if i in spl_char:\n",
    "            count=1\n",
    "            break\n",
    "        else:\n",
    "            count=0\n",
    "            continue\n",
    "    if count==0:\n",
    "        print(f'There is no special character in string {string}')\n",
    "    else:\n",
    "        print(f'There is a special character in string {string}')\n",
    "        \n",
    "check_char()\n",
    "check_char()"
   ]
  },
  {
   "cell_type": "code",
   "execution_count": null,
   "id": "dde674ae-c7ec-4db3-8502-8f5f80c1cadf",
   "metadata": {},
   "outputs": [],
   "source": []
  }
 ],
 "metadata": {
  "kernelspec": {
   "display_name": "Python 3 (ipykernel)",
   "language": "python",
   "name": "python3"
  },
  "language_info": {
   "codemirror_mode": {
    "name": "ipython",
    "version": 3
   },
   "file_extension": ".py",
   "mimetype": "text/x-python",
   "name": "python",
   "nbconvert_exporter": "python",
   "pygments_lexer": "ipython3",
   "version": "3.10.6"
  }
 },
 "nbformat": 4,
 "nbformat_minor": 5
}
