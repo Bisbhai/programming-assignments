{
 "cells": [
  {
   "cell_type": "markdown",
   "id": "3c105e91-80b2-4501-a2e4-e4fc40facfb2",
   "metadata": {},
   "source": [
    "1. Write a Python Program to find sum of array?"
   ]
  },
  {
   "cell_type": "code",
   "execution_count": 1,
   "id": "347befd4-fd60-4459-aaa1-5cdf81bdec6c",
   "metadata": {},
   "outputs": [
    {
     "name": "stdin",
     "output_type": "stream",
     "text": [
      "enter the array :  1,2,3,4,5\n"
     ]
    },
    {
     "name": "stdout",
     "output_type": "stream",
     "text": [
      "The sum of (1, 2, 3, 4, 5) is 15\n"
     ]
    }
   ],
   "source": [
    "\n",
    "arr=eval(input('enter the array : '))\n",
    "print(f'The sum of {arr} is {sum(arr)}')"
   ]
  },
  {
   "cell_type": "markdown",
   "id": "d2513eab-2285-49e5-a410-dfb2fa2bb985",
   "metadata": {},
   "source": [
    "2. Write a Python Program to find largest element in an array?"
   ]
  },
  {
   "cell_type": "code",
   "execution_count": 2,
   "id": "564eb25c-3ee9-43d2-b16a-a1b72d33583b",
   "metadata": {},
   "outputs": [
    {
     "name": "stdin",
     "output_type": "stream",
     "text": [
      "Enter the array :  2,3,4,5,6\n"
     ]
    },
    {
     "name": "stdout",
     "output_type": "stream",
     "text": [
      "The largest element in array (2, 3, 4, 5, 6) is 6\n"
     ]
    }
   ],
   "source": [
    "ar=eval(input('Enter the array : '))\n",
    "print(f'The largest element in array {ar} is {max(ar)}')"
   ]
  },
  {
   "cell_type": "markdown",
   "id": "0daca795-2667-4332-a233-329767d20595",
   "metadata": {},
   "source": [
    "3. Write a Python Program for array rotation?"
   ]
  },
  {
   "cell_type": "code",
   "execution_count": 3,
   "id": "c59ecf01-8598-4199-bf97-2f0c77fef2e6",
   "metadata": {},
   "outputs": [
    {
     "name": "stdin",
     "output_type": "stream",
     "text": [
      "Enter the array :  5,4,7,8,9\n"
     ]
    },
    {
     "name": "stdout",
     "output_type": "stream",
     "text": [
      "Before rotation : (5, 4, 7, 8, 9) , After rotation : (9, 8, 7, 4, 5)\n"
     ]
    }
   ],
   "source": [
    "ar = eval(input('Enter the array : '))\n",
    "print(f'Before rotation : {ar} , After rotation : {ar[::-1]}')"
   ]
  },
  {
   "cell_type": "markdown",
   "id": "45695d5c-f8d6-42b0-b466-03df87223696",
   "metadata": {},
   "source": [
    "4. Write a Python Program to Split the array and add the first part to the end?"
   ]
  },
  {
   "cell_type": "code",
   "execution_count": 4,
   "id": "f8b0f32b-8dd8-439b-9e69-ac8821571435",
   "metadata": {},
   "outputs": [
    {
     "name": "stdin",
     "output_type": "stream",
     "text": [
      "Enter the array :  25,4,7,58\n"
     ]
    },
    {
     "name": "stdout",
     "output_type": "stream",
     "text": [
      "array : (25, 4, 7, 58) sum first with last is 83\n"
     ]
    }
   ],
   "source": [
    "ar = eval(input('Enter the array : '))\n",
    "print(f'array : {ar} sum first with last is {ar[0]+ar[-1]}')"
   ]
  },
  {
   "cell_type": "markdown",
   "id": "7dfc23df-45d8-41a2-a2ce-beede63cfdda",
   "metadata": {},
   "source": [
    "5. Write a Python Program to check if given array is Monotonic?"
   ]
  },
  {
   "cell_type": "code",
   "execution_count": 5,
   "id": "11f01e82-5364-42c0-b19a-2c99cb6e1251",
   "metadata": {},
   "outputs": [
    {
     "name": "stdin",
     "output_type": "stream",
     "text": [
      "Enter the array :  5,4,7,3,6,54\n"
     ]
    },
    {
     "name": "stdout",
     "output_type": "stream",
     "text": [
      "Not monotonic\n"
     ]
    },
    {
     "name": "stdin",
     "output_type": "stream",
     "text": [
      "Enter the array :  2,3,4,5,6\n"
     ]
    },
    {
     "name": "stdout",
     "output_type": "stream",
     "text": [
      "Monotonic\n"
     ]
    }
   ],
   "source": [
    "def monotonic():\n",
    "    ar=eval(input('Enter the array : '))\n",
    "    if (all(ar[i]<=ar[i+1] for i in range(len(ar)-1)) or all(ar[i]>=ar[i+1] for i in range(len(ar)-1))):\n",
    "        print('Monotonic')\n",
    "    else:\n",
    "        print('Not monotonic')\n",
    "            \n",
    "monotonic()\n",
    "monotonic()"
   ]
  },
  {
   "cell_type": "code",
   "execution_count": null,
   "id": "c88f924d-bf55-4194-a64a-b83b3a9e92aa",
   "metadata": {},
   "outputs": [],
   "source": []
  }
 ],
 "metadata": {
  "kernelspec": {
   "display_name": "Python 3 (ipykernel)",
   "language": "python",
   "name": "python3"
  },
  "language_info": {
   "codemirror_mode": {
    "name": "ipython",
    "version": 3
   },
   "file_extension": ".py",
   "mimetype": "text/x-python",
   "name": "python",
   "nbconvert_exporter": "python",
   "pygments_lexer": "ipython3",
   "version": "3.10.6"
  }
 },
 "nbformat": 4,
 "nbformat_minor": 5
}
