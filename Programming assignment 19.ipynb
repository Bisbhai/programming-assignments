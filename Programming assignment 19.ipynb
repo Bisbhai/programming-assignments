{
 "cells": [
  {
   "cell_type": "markdown",
   "id": "fb83dd96-9895-4389-a323-6f541f74afb0",
   "metadata": {},
   "source": [
    "Question1\n",
    "Create a function that takes a string and returns a string in which each character is repeated once.\n",
    "Examples\n",
    "double_char(\"String\") ➞ \"SSttrriinngg\" double_char(\"Hello World!\") ➞ \"HHeelllloo WWoorrlldd!!\" double_char(\"1234!_ \") ➞ \"11223344!!__ \""
   ]
  },
  {
   "cell_type": "code",
   "execution_count": 1,
   "id": "01b74344-9efb-4f37-af08-4fa82d12d833",
   "metadata": {},
   "outputs": [
    {
     "name": "stdin",
     "output_type": "stream",
     "text": [
      "Enter a string:  String\n"
     ]
    },
    {
     "name": "stdout",
     "output_type": "stream",
     "text": [
      "String ➞ SSttrriinngg\n"
     ]
    },
    {
     "name": "stdin",
     "output_type": "stream",
     "text": [
      "Enter a string:  Hello World!\n"
     ]
    },
    {
     "name": "stdout",
     "output_type": "stream",
     "text": [
      "Hello World! ➞ HHeelllloo  WWoorrlldd!!\n"
     ]
    },
    {
     "name": "stdin",
     "output_type": "stream",
     "text": [
      "Enter a string:  1234!_\n"
     ]
    },
    {
     "name": "stdout",
     "output_type": "stream",
     "text": [
      "1234!_ ➞ 11223344!!__\n"
     ]
    }
   ],
   "source": [
    "def func():\n",
    "    result = ''\n",
    "    word = input('Enter a string: ')\n",
    "    for i in word:\n",
    "        result += i*2\n",
    "    print(f'{word} ➞ {result}')    \n",
    "for i in range(3):\n",
    "    func()"
   ]
  },
  {
   "cell_type": "markdown",
   "id": "d037ce7c-a3ce-46bd-a44a-c04a643699c8",
   "metadata": {},
   "source": [
    "Question2\n",
    "Create a function that reverses a boolean value and returns the string \"boolean expected\" if another variable type is given.\n",
    "Examples\n",
    "reverse(True) ➞ False reverse(False) ➞ True reverse(0) ➞ \"boolean expected\" reverse(None) ➞ \"boolean expected\""
   ]
  },
  {
   "cell_type": "code",
   "execution_count": 2,
   "id": "ba022dc7-1d73-487e-9c1f-954d903659d3",
   "metadata": {},
   "outputs": [
    {
     "name": "stdout",
     "output_type": "stream",
     "text": [
      "reverse(True) ➞ False\n",
      "reverse(False) ➞ True\n",
      "reverse(0) ➞ Boolean Expected\n",
      "reverse(None) ➞ Boolean Expected\n"
     ]
    }
   ],
   "source": [
    "def reverse(in_bool):\n",
    "    if type(in_bool) == bool:\n",
    "        return not in_bool\n",
    "    else:\n",
    "        return \"Boolean Expected\"\n",
    "\n",
    "print(f'reverse(True) ➞ {reverse(True)}')\n",
    "print(f'reverse(False) ➞ {reverse(False)}')\n",
    "print(f'reverse(0) ➞ {reverse(0)}')\n",
    "print(f'reverse(None) ➞ {reverse(None)}')"
   ]
  },
  {
   "cell_type": "markdown",
   "id": "01e9c2c9-2585-4343-a2c9-0df16fd12033",
   "metadata": {},
   "source": [
    "Question3\n",
    "Create a function that returns the thickness (in meters) of a piece of paper after folding it n number of times. The paper starts off with a thickness of 0.5mm.\n",
    "Examples\n",
    "num_layers(1) ➞ \"0.001m\"\n",
    "\n",
    "Paper folded once is 1mm (equal to 0.001m)\n",
    "num_layers(4) ➞ \"0.008m\"\n",
    "\n",
    "Paper folded 4 times is 8mm (equal to 0.008m)\n",
    "num_layers(21) ➞ \"1048.576m\"\n",
    "\n",
    "Paper folded 21 times is 1048576mm (equal to 1048.576m)"
   ]
  },
  {
   "cell_type": "code",
   "execution_count": 3,
   "id": "ae42b72a-11b2-4613-9870-f4b2a25753d9",
   "metadata": {},
   "outputs": [
    {
     "name": "stdout",
     "output_type": "stream",
     "text": [
      "num_layers 1 ➞ 0.001m\n",
      "num_layers 4 ➞ 0.008m\n",
      "num_layers 21 ➞ 1048.576m\n"
     ]
    }
   ],
   "source": [
    "def func2(in_num):\n",
    "    out_num = 0.5\n",
    "    for ele in range(in_num):\n",
    "        out_num *= 2\n",
    "    print(f'num_layers {in_num} ➞ {out_num/1000}m')\n",
    "    \n",
    "func2(1)\n",
    "func2(4)\n",
    "func2(21)"
   ]
  },
  {
   "cell_type": "markdown",
   "id": "040f3b88-add7-4764-a59c-e0a40ea14066",
   "metadata": {},
   "source": [
    "Question4\n",
    "Create a function that takes a single string as argument and returns an ordered list containing the indices of all capital letters in the string.\n",
    "Examples\n",
    "index_of_caps(\"eDaBiT\") ➞ [1, 3, 5] index_of_caps(\"eQuINoX\") ➞ [1, 3, 4, 6] index_of_caps(\"determine\") ➞ [] index_of_caps(\"STRIKE\") ➞ [0, 1, 2, 3, 4, 5] index_of_caps(\"sUn\") ➞ [1]"
   ]
  },
  {
   "cell_type": "code",
   "execution_count": 4,
   "id": "840077a6-8b26-4346-a1fb-24072ff99f71",
   "metadata": {},
   "outputs": [
    {
     "name": "stdout",
     "output_type": "stream",
     "text": [
      "eDaBiT ➞ [1, 3, 5]\n",
      "eQuINoX ➞ [1, 3, 4, 6]\n",
      "determine ➞ []\n",
      "STRIKE ➞ [0, 1, 2, 3, 4, 5]\n",
      "sUn ➞ [1]\n"
     ]
    }
   ],
   "source": [
    "def func3(in_str):\n",
    "    out_str = []\n",
    "    for i in in_str:\n",
    "        if i.isupper():\n",
    "            out_str.append(in_str.index(i))\n",
    "    print(f'{in_str} ➞ {out_str}')\n",
    "\n",
    "func3(\"eDaBiT\")\n",
    "func3(\"eQuINoX\")\n",
    "func3(\"determine\")\n",
    "func3(\"STRIKE\")\n",
    "func3(\"sUn\")"
   ]
  },
  {
   "cell_type": "markdown",
   "id": "9ea2b9ae-2875-4174-8aaa-b0a3c2733c39",
   "metadata": {},
   "source": [
    "Question5\n",
    "Using list comprehensions, create a function that finds all even numbers from 1 to the given number.\n",
    "Examples\n",
    "find_even_nums(8) ➞ [2, 4, 6, 8] find_even_nums(4) ➞ [2, 4] find_even_nums(2) ➞ [2]"
   ]
  },
  {
   "cell_type": "code",
   "execution_count": 5,
   "id": "0788cb25-aafd-4cd1-8df7-ac7084fcb72b",
   "metadata": {},
   "outputs": [
    {
     "name": "stdout",
     "output_type": "stream",
     "text": [
      "find_even_nums 8 ➞ [2, 4, 6, 8]\n",
      "find_even_nums 4 ➞ [2, 4]\n",
      "find_even_nums 2 ➞ [2]\n"
     ]
    }
   ],
   "source": [
    "def find_even(num):\n",
    "    output=[]\n",
    "    for i in range(1,num+1):\n",
    "        if i%2==0:\n",
    "            output.append(i)\n",
    "    print(f'find_even_nums {num} ➞ {output}')\n",
    "find_even(8)\n",
    "find_even(4)\n",
    "find_even(2)"
   ]
  },
  {
   "cell_type": "code",
   "execution_count": null,
   "id": "9f16dcfd-6934-42bd-9dc7-9191607f0e6a",
   "metadata": {},
   "outputs": [],
   "source": []
  },
  {
   "cell_type": "code",
   "execution_count": null,
   "id": "5e6b2c5a-5f62-484e-8e99-5938e979622d",
   "metadata": {},
   "outputs": [],
   "source": []
  },
  {
   "cell_type": "code",
   "execution_count": null,
   "id": "4137399b-ead5-4f12-baef-8089ce7267df",
   "metadata": {},
   "outputs": [],
   "source": []
  }
 ],
 "metadata": {
  "kernelspec": {
   "display_name": "Python 3 (ipykernel)",
   "language": "python",
   "name": "python3"
  },
  "language_info": {
   "codemirror_mode": {
    "name": "ipython",
    "version": 3
   },
   "file_extension": ".py",
   "mimetype": "text/x-python",
   "name": "python",
   "nbconvert_exporter": "python",
   "pygments_lexer": "ipython3",
   "version": "3.10.6"
  }
 },
 "nbformat": 4,
 "nbformat_minor": 5
}
