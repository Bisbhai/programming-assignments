{
 "cells": [
  {
   "cell_type": "markdown",
   "id": "f66174f3",
   "metadata": {},
   "source": [
    "1.Write a Python program to convert kilometers to miles?"
   ]
  },
  {
   "cell_type": "code",
   "execution_count": 2,
   "id": "53b962a1",
   "metadata": {},
   "outputs": [
    {
     "name": "stdout",
     "output_type": "stream",
     "text": [
      "enter distance in km :25\n",
      "The distance (in miles) is 15.53425\n"
     ]
    }
   ],
   "source": [
    "a=float(input(\"enter distance in km :\"))\n",
    "b=a*0.62137\n",
    "print(\"The distance (in miles) is\",b)"
   ]
  },
  {
   "cell_type": "markdown",
   "id": "b15c8648",
   "metadata": {},
   "source": [
    "2.Write a Python program to convert Celsius to Fahrenheit?"
   ]
  },
  {
   "cell_type": "code",
   "execution_count": 3,
   "id": "128c178c",
   "metadata": {},
   "outputs": [
    {
     "name": "stdout",
     "output_type": "stream",
     "text": [
      "enter temperature in celsicus :25\n",
      " temperature in Fahrenheit : 77.0\n"
     ]
    }
   ],
   "source": [
    "a=float(input(\"enter temperature in celsicus :\"))\n",
    "b=a*1.8+32\n",
    "print(\" temperature in Fahrenheit :\",b)"
   ]
  },
  {
   "cell_type": "markdown",
   "id": "39946a89",
   "metadata": {},
   "source": [
    "3.Write a Python program to display calendar?"
   ]
  },
  {
   "cell_type": "code",
   "execution_count": 8,
   "id": "b52648f1",
   "metadata": {},
   "outputs": [
    {
     "name": "stdout",
     "output_type": "stream",
     "text": [
      "Enter year:2022\n",
      "Enter month10\n",
      "                                  2022\n",
      "\n",
      "      January                   February                   March\n",
      "Mo Tu We Th Fr Sa Su      Mo Tu We Th Fr Sa Su      Mo Tu We Th Fr Sa Su\n",
      "                1  2          1  2  3  4  5  6          1  2  3  4  5  6\n",
      " 3  4  5  6  7  8  9       7  8  9 10 11 12 13       7  8  9 10 11 12 13\n",
      "10 11 12 13 14 15 16      14 15 16 17 18 19 20      14 15 16 17 18 19 20\n",
      "17 18 19 20 21 22 23      21 22 23 24 25 26 27      21 22 23 24 25 26 27\n",
      "24 25 26 27 28 29 30      28                        28 29 30 31\n",
      "31\n",
      "\n",
      "       April                      May                       June\n",
      "Mo Tu We Th Fr Sa Su      Mo Tu We Th Fr Sa Su      Mo Tu We Th Fr Sa Su\n",
      "             1  2  3                         1             1  2  3  4  5\n",
      " 4  5  6  7  8  9 10       2  3  4  5  6  7  8       6  7  8  9 10 11 12\n",
      "11 12 13 14 15 16 17       9 10 11 12 13 14 15      13 14 15 16 17 18 19\n",
      "18 19 20 21 22 23 24      16 17 18 19 20 21 22      20 21 22 23 24 25 26\n",
      "25 26 27 28 29 30         23 24 25 26 27 28 29      27 28 29 30\n",
      "                          30 31\n",
      "\n",
      "        July                     August                  September\n",
      "Mo Tu We Th Fr Sa Su      Mo Tu We Th Fr Sa Su      Mo Tu We Th Fr Sa Su\n",
      "             1  2  3       1  2  3  4  5  6  7                1  2  3  4\n",
      " 4  5  6  7  8  9 10       8  9 10 11 12 13 14       5  6  7  8  9 10 11\n",
      "11 12 13 14 15 16 17      15 16 17 18 19 20 21      12 13 14 15 16 17 18\n",
      "18 19 20 21 22 23 24      22 23 24 25 26 27 28      19 20 21 22 23 24 25\n",
      "25 26 27 28 29 30 31      29 30 31                  26 27 28 29 30\n",
      "\n",
      "      October                   November                  December\n",
      "Mo Tu We Th Fr Sa Su      Mo Tu We Th Fr Sa Su      Mo Tu We Th Fr Sa Su\n",
      "                1  2          1  2  3  4  5  6                1  2  3  4\n",
      " 3  4  5  6  7  8  9       7  8  9 10 11 12 13       5  6  7  8  9 10 11\n",
      "10 11 12 13 14 15 16      14 15 16 17 18 19 20      12 13 14 15 16 17 18\n",
      "17 18 19 20 21 22 23      21 22 23 24 25 26 27      19 20 21 22 23 24 25\n",
      "24 25 26 27 28 29 30      28 29 30                  26 27 28 29 30 31\n",
      "31\n",
      "\n",
      "    October 2022\n",
      "Mo Tu We Th Fr Sa Su\n",
      "                1  2\n",
      " 3  4  5  6  7  8  9\n",
      "10 11 12 13 14 15 16\n",
      "17 18 19 20 21 22 23\n",
      "24 25 26 27 28 29 30\n",
      "31\n",
      "\n"
     ]
    }
   ],
   "source": [
    "import calendar\n",
    "a=int(input(\"Enter year:\"))\n",
    "b=int(input(\"Enter month\"))\n",
    "print(calendar.calendar(a))\n",
    "print(calendar.month(a,b))"
   ]
  },
  {
   "cell_type": "markdown",
   "id": "a8a3cfc3",
   "metadata": {},
   "source": [
    "4.Write a Python program to solve quadratic equation?"
   ]
  },
  {
   "cell_type": "code",
   "execution_count": 11,
   "id": "5ad3d766",
   "metadata": {},
   "outputs": [
    {
     "name": "stdout",
     "output_type": "stream",
     "text": [
      "enter first coefficients of quadratic equation :1\n",
      "enter second coefficients of quadratic equation :5\n",
      "enter  third coefficients of quadratic equation :6\n",
      "one root is: (-3+0j)\n",
      "second root is: (-2+0j)\n"
     ]
    }
   ],
   "source": [
    "import cmath\n",
    "a=int(input(\"enter first coefficients of quadratic equation :\"))\n",
    "b=int(input(\"enter second coefficients of quadratic equation :\"))\n",
    "c=int(input(\"enter  third coefficients of quadratic equation :\"))\n",
    "d=(b*b)-(4*a*c)\n",
    "print(\"one root is:\",(-b-cmath.sqrt(d))/(2*a))\n",
    "print(\"second root is:\",(-b+cmath.sqrt(d))/(2*a))"
   ]
  },
  {
   "cell_type": "markdown",
   "id": "ac0ba7e5",
   "metadata": {},
   "source": [
    "5.Write a Python program to swap two variables without temp variable?"
   ]
  },
  {
   "cell_type": "code",
   "execution_count": 12,
   "id": "f8e3775f",
   "metadata": {},
   "outputs": [
    {
     "name": "stdout",
     "output_type": "stream",
     "text": [
      "enter first number :5\n",
      "enter second number:4\n",
      "after swapping the numbers are : 4.0 5.0\n"
     ]
    }
   ],
   "source": [
    "a=int(input(\"enter first number :\"))\n",
    "b=int(input(\"enter second number:\"))\n",
    "a=a*b\n",
    "b=a/b\n",
    "a=a/b\n",
    "print(\"after swapping the numbers are :\",a,b)"
   ]
  },
  {
   "cell_type": "code",
   "execution_count": null,
   "id": "18670ecb",
   "metadata": {},
   "outputs": [],
   "source": []
  }
 ],
 "metadata": {
  "kernelspec": {
   "display_name": "Python 3 (ipykernel)",
   "language": "python",
   "name": "python3"
  },
  "language_info": {
   "codemirror_mode": {
    "name": "ipython",
    "version": 3
   },
   "file_extension": ".py",
   "mimetype": "text/x-python",
   "name": "python",
   "nbconvert_exporter": "python",
   "pygments_lexer": "ipython3",
   "version": "3.9.12"
  }
 },
 "nbformat": 4,
 "nbformat_minor": 5
}
