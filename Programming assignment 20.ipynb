{
 "cells": [
  {
   "cell_type": "markdown",
   "id": "057fceff-946c-4956-a841-e65082923eba",
   "metadata": {},
   "source": [
    "Question1\n",
    "Create a function that takes a list of strings and integers, and filters out the list so that it returns a list of integers only.\n",
    "Examples\n",
    "filter_list([1, 2, 3, \"a\", \"b\", 4]) ➞ [1, 2, 3, 4] filter_list([\"A\", 0, \"Edabit\", 1729, \"Python\", \"1729\"]) ➞ [0, 1729] filter_list([\"Nothing\", \"here\"]) ➞ []"
   ]
  },
  {
   "cell_type": "code",
   "execution_count": 1,
   "id": "f3757f52-b773-4f48-ba27-8318d92bfce8",
   "metadata": {},
   "outputs": [
    {
     "name": "stdin",
     "output_type": "stream",
     "text": [
      "Enter a list:  [1, 2, 3, \"a\", \"b\", 4]\n"
     ]
    },
    {
     "name": "stdout",
     "output_type": "stream",
     "text": [
      "filter_list [1, 2, 3, 'a', 'b', 4] ➞ [1, 2, 3, 4]\n"
     ]
    },
    {
     "name": "stdin",
     "output_type": "stream",
     "text": [
      "Enter a list:  [\"A\", 0, \"Edabit\", 1729, \"Python\", \"1729\"]\n"
     ]
    },
    {
     "name": "stdout",
     "output_type": "stream",
     "text": [
      "filter_list ['A', 0, 'Edabit', 1729, 'Python', '1729'] ➞ [0, 1729]\n"
     ]
    },
    {
     "name": "stdin",
     "output_type": "stream",
     "text": [
      "Enter a list:  [\"Nothing\", \"here\"]\n"
     ]
    },
    {
     "name": "stdout",
     "output_type": "stream",
     "text": [
      "filter_list ['Nothing', 'here'] ➞ []\n"
     ]
    }
   ],
   "source": [
    "def filter_list():\n",
    "    out_lst=[]\n",
    "    lst = eval(input(\"Enter a list: \"))\n",
    "    for i in lst:\n",
    "        if type(i)==int:\n",
    "            out_lst.append(i)\n",
    "    print(f\"filter_list {lst} ➞ {out_lst}\")\n",
    "    \n",
    "for i in range(3):\n",
    "    filter_list()  "
   ]
  },
  {
   "cell_type": "markdown",
   "id": "ea2b65c3-adb9-4130-bbf8-50af6a310ceb",
   "metadata": {},
   "source": [
    "Question2\n",
    "Given a list of numbers, create a function which returns the list but with each element's index in the list added to itself. This means you add 0 to the number at index 0, add 1 to the number at index 1, etc...\n",
    "Examples\n",
    "add_indexes([0, 0, 0, 0, 0]) ➞ [0, 1, 2, 3, 4] add_indexes([1, 2, 3, 4, 5]) ➞ [1, 3, 5, 7, 9] add_indexes([5, 4, 3, 2, 1]) ➞ [5, 5, 5, 5, 5]"
   ]
  },
  {
   "cell_type": "code",
   "execution_count": 2,
   "id": "c8b65d6e-6e86-4164-9236-dd2b4a23bab2",
   "metadata": {},
   "outputs": [
    {
     "name": "stdin",
     "output_type": "stream",
     "text": [
      "Enter a list:  [0, 0, 0, 0, 0]\n"
     ]
    },
    {
     "name": "stdout",
     "output_type": "stream",
     "text": [
      "add_indexes [0, 0, 0, 0, 0] ➞ [0, 1, 2, 3, 4]\n"
     ]
    },
    {
     "name": "stdin",
     "output_type": "stream",
     "text": [
      "Enter a list:  [1, 2, 3, 4, 5]\n"
     ]
    },
    {
     "name": "stdout",
     "output_type": "stream",
     "text": [
      "add_indexes [1, 2, 3, 4, 5] ➞ [1, 3, 5, 7, 9]\n"
     ]
    },
    {
     "name": "stdin",
     "output_type": "stream",
     "text": [
      "Enter a list:  [5, 4, 3, 2, 1]\n"
     ]
    },
    {
     "name": "stdout",
     "output_type": "stream",
     "text": [
      "add_indexes [5, 4, 3, 2, 1] ➞ [5, 5, 5, 5, 5]\n"
     ]
    }
   ],
   "source": [
    "def add_indexes():\n",
    "    lst = eval(input(\"Enter a list: \"))\n",
    "    out_lst=[]\n",
    "    for i in range(len(lst)):\n",
    "        out_lst.append(i+lst[i])\n",
    "    print(f\"add_indexes {lst} ➞ {out_lst}\")  \n",
    "    \n",
    "for i in range(3):\n",
    "    add_indexes()"
   ]
  },
  {
   "cell_type": "markdown",
   "id": "c337f639-5050-443f-a114-70c148337d5c",
   "metadata": {},
   "source": [
    "Question3\n",
    "Create a function that takes the height and radius of a cone as arguments and returns the volume of the cone rounded to the nearest hundredth. See the resources tab for the formula.\n",
    "Examples\n",
    "cone_volume(3, 2) ➞ 12.57 cone_volume(15, 6) ➞ 565.49 cone_volume(18, 0) ➞ 0"
   ]
  },
  {
   "cell_type": "code",
   "execution_count": 3,
   "id": "9723f184-572f-4021-b6fd-fc3b31a4bd43",
   "metadata": {},
   "outputs": [
    {
     "name": "stdout",
     "output_type": "stream",
     "text": [
      "cone_volume 3,2 ➞ 12.57\n",
      "cone_volume 15,6 ➞ 565.49\n",
      "cone_volume 18,0 ➞ 0.00\n"
     ]
    }
   ],
   "source": [
    "import math\n",
    "\n",
    "def cone_volume(h , r):\n",
    "    vol = ((math.pi)*pow(r,2))*(h/3)\n",
    "    print(f\"cone_volume {h},{r} ➞ {vol:.2f}\")\n",
    "    \n",
    "cone_volume(3,2)\n",
    "cone_volume(15,6)\n",
    "cone_volume(18,0)\n",
    "    "
   ]
  },
  {
   "cell_type": "markdown",
   "id": "5ea211bf-a299-420a-b3eb-e5361030fd7b",
   "metadata": {},
   "source": [
    "Question4\n",
    "This Triangular Number Sequence is generated from a pattern of dots that form a triangle. The first 5 numbers of the sequence, or dots, are: 1, 3, 6, 10, 15 This means that the first triangle has just one dot, the second one has three dots, the third one has 6 dots and so on.\n",
    "Write a function that gives the number of dots with its corresponding triangle number of the sequence.\n",
    "Examples\n",
    "triangle(1) ➞ 1 triangle(6) ➞ 21 triangle(215) ➞ 23220"
   ]
  },
  {
   "cell_type": "code",
   "execution_count": 4,
   "id": "00640905-bf71-416b-a5f4-1b9c0d6530ad",
   "metadata": {},
   "outputs": [
    {
     "name": "stdout",
     "output_type": "stream",
     "text": [
      "triangle ➞ 1\n",
      "triangle ➞ 21\n",
      "triangle ➞ 23220\n"
     ]
    }
   ],
   "source": [
    "def triangle(in_num):\n",
    "    print(f'triangle ➞ {int((in_num)*((in_num+1)/2))}')\n",
    "\n",
    "triangle(1)\n",
    "triangle(6)\n",
    "triangle(215)"
   ]
  },
  {
   "cell_type": "markdown",
   "id": "e5b028d7-5bec-4a6c-93f3-95117bbdb4c2",
   "metadata": {},
   "source": [
    "Question5\n",
    "Create a function that takes a list of numbers between 1 and 10 (excluding one number) and returns the missing number.\n",
    "Examples\n",
    "missing_num([1, 2, 3, 4, 6, 7, 8, 9, 10]) ➞ 5 missing_num([7, 2, 3, 6, 5, 9, 1, 4, 8]) ➞ 10 missing_num([10, 5, 1, 2, 4, 6, 8, 3, 9]) ➞ 7"
   ]
  },
  {
   "cell_type": "code",
   "execution_count": 5,
   "id": "1207a973-f341-4d2f-a309-58d49be22665",
   "metadata": {},
   "outputs": [
    {
     "name": "stdin",
     "output_type": "stream",
     "text": [
      "Enter a list from 1 to 10:  [1, 2, 3, 4, 6, 7, 8, 9, 10]\n"
     ]
    },
    {
     "name": "stdout",
     "output_type": "stream",
     "text": [
      "missing_num [1, 2, 3, 4, 6, 7, 8, 9, 10] ➞ 5\n"
     ]
    },
    {
     "name": "stdin",
     "output_type": "stream",
     "text": [
      "Enter a list from 1 to 10:  [7, 2, 3, 6, 5, 9, 1, 4, 8]\n"
     ]
    },
    {
     "name": "stdout",
     "output_type": "stream",
     "text": [
      "missing_num [7, 2, 3, 6, 5, 9, 1, 4, 8] ➞ 10\n"
     ]
    },
    {
     "name": "stdin",
     "output_type": "stream",
     "text": [
      "Enter a list from 1 to 10:  [10, 5, 1, 2, 4, 6, 8, 3, 9]\n"
     ]
    },
    {
     "name": "stdout",
     "output_type": "stream",
     "text": [
      "missing_num [10, 5, 1, 2, 4, 6, 8, 3, 9] ➞ 7\n"
     ]
    }
   ],
   "source": [
    "def missing_num():\n",
    "    lst = eval(input(\"Enter a list from 1 to 10: \"))\n",
    "    for i in range(1,11):\n",
    "        if i not in lst:\n",
    "            print(f\"missing_num {lst} ➞ {i}\")\n",
    "            \n",
    "for i in range(3):\n",
    "    missing_num()"
   ]
  },
  {
   "cell_type": "code",
   "execution_count": null,
   "id": "dbf51aa8-3784-4e98-b7f2-34e7ff338a85",
   "metadata": {},
   "outputs": [],
   "source": []
  },
  {
   "cell_type": "code",
   "execution_count": null,
   "id": "6098bcde-2b5f-41af-8e65-81933d62253d",
   "metadata": {},
   "outputs": [],
   "source": []
  },
  {
   "cell_type": "code",
   "execution_count": null,
   "id": "7e0b3f86-ae7c-44bd-893b-f0d6c031c388",
   "metadata": {},
   "outputs": [],
   "source": []
  },
  {
   "cell_type": "code",
   "execution_count": null,
   "id": "205a035c-4873-41c5-ab4f-062523e59d3e",
   "metadata": {},
   "outputs": [],
   "source": []
  }
 ],
 "metadata": {
  "kernelspec": {
   "display_name": "Python 3 (ipykernel)",
   "language": "python",
   "name": "python3"
  },
  "language_info": {
   "codemirror_mode": {
    "name": "ipython",
    "version": 3
   },
   "file_extension": ".py",
   "mimetype": "text/x-python",
   "name": "python",
   "nbconvert_exporter": "python",
   "pygments_lexer": "ipython3",
   "version": "3.10.6"
  }
 },
 "nbformat": 4,
 "nbformat_minor": 5
}
