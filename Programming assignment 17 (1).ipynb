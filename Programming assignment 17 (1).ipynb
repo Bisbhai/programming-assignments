{
 "cells": [
  {
   "cell_type": "markdown",
   "id": "7685db63-7ea6-4c66-a5d5-f0e38462b670",
   "metadata": {},
   "source": [
    "Question1.\n",
    "Create a function that takes three arguments a, b, c and returns the sum of the numbers that are evenly divided by c from the range a, b inclusive.\n",
    "Examples evenly_divisible(1, 10, 20) ➞ 0\n",
    "\n",
    "No number between 1 and 10 can be evenly divided by 20.\n",
    "evenly_divisible(1, 10, 2) ➞ 30\n",
    "2 + 4 + 6 + 8 + 10 = 30\n",
    "evenly_divisible(1, 10, 3) ➞ 18\n",
    "3 + 6 + 9 = 18"
   ]
  },
  {
   "cell_type": "code",
   "execution_count": 1,
   "id": "9be82461-effc-4400-8e7f-418e3c466a86",
   "metadata": {},
   "outputs": [
    {
     "name": "stdout",
     "output_type": "stream",
     "text": [
      "No number between1 and 10 can be evenly divided by 20.\n",
      "Sum of evenly divided numbers : 30\n"
     ]
    }
   ],
   "source": [
    "def evenlyDivide(a,b,c):\n",
    "    result=0\n",
    "    if c>b:\n",
    "        print(f'No number between{a} and {b} can be evenly divided by {c}.')\n",
    "    else:\n",
    "        for i in range(a,b+1):\n",
    "            if i%c==0:\n",
    "                result+=i\n",
    "        print(f'Sum of evenly divided numbers : {result}')        \n",
    "                \n",
    "evenlyDivide(1,10,20)\n",
    "evenlyDivide(1,10,2)"
   ]
  },
  {
   "cell_type": "markdown",
   "id": "32001006-abe0-4002-8577-ca4ed4b28928",
   "metadata": {},
   "source": [
    "Question2.\n",
    "Create a function that returns True if a given inequality expression is correct and False otherwise.\n",
    "Examples\n",
    "\n",
    "correct_signs(\"3 < 7 < 11\") ➞ True\n",
    "correct_signs(\"13 > 44 > 33 > 1\") ➞ False\n",
    "correct_signs(\"1 < 2 < 6 < 9 > 3\") ➞ True"
   ]
  },
  {
   "cell_type": "code",
   "execution_count": 2,
   "id": "36deb085-e0bf-4787-8739-2cd6518e3ff1",
   "metadata": {},
   "outputs": [
    {
     "name": "stdin",
     "output_type": "stream",
     "text": [
      "Enter the expression :  6<8<9\n"
     ]
    },
    {
     "name": "stdout",
     "output_type": "stream",
     "text": [
      "The expression 6<8<9 is True.\n"
     ]
    },
    {
     "name": "stdin",
     "output_type": "stream",
     "text": [
      "Enter the expression :  13>44>33>1\n"
     ]
    },
    {
     "name": "stdout",
     "output_type": "stream",
     "text": [
      "The expression 13>44>33>1 is False.\n"
     ]
    },
    {
     "name": "stdin",
     "output_type": "stream",
     "text": [
      "Enter the expression :  1 < 2 < 6 < 9 > 3\n"
     ]
    },
    {
     "name": "stdout",
     "output_type": "stream",
     "text": [
      "The expression 1 < 2 < 6 < 9 > 3 is True.\n"
     ]
    }
   ],
   "source": [
    "def correct_sign():\n",
    "    exp = input(\"Enter the expression : \")\n",
    "    result = eval(exp)\n",
    "    print(f'The expression {exp} is {result}.')\n",
    "    \n",
    "for i in range(3):\n",
    "    correct_sign()\n"
   ]
  },
  {
   "cell_type": "markdown",
   "id": "8bf17069-076c-4bac-9db4-5107f0477597",
   "metadata": {},
   "source": [
    "Question3.\n",
    "Create a function that replaces all the vowels in a string with a specified character.\n",
    "Examples\n",
    "\n",
    "replace_vowels(\"the aardvark\", \"#\") ➞ \"th# ##rdv#rk\"\n",
    "replace_vowels(\"minnie mouse\", \"?\") ➞ \"m?nn?? m??s?\"\n",
    "replace_vowels(\"shakespeare\", \"\") ➞ \"shkspr\""
   ]
  },
  {
   "cell_type": "code",
   "execution_count": 3,
   "id": "bdb161d0-fee3-41dd-80cb-a4ee7f3e041b",
   "metadata": {},
   "outputs": [
    {
     "name": "stdin",
     "output_type": "stream",
     "text": [
      "Enter the string :  the aardvark\n",
      "Replacement character :  #\n"
     ]
    },
    {
     "name": "stdout",
     "output_type": "stream",
     "text": [
      "replace_vowels the aardvark  # ➞ th# ##rdv#rk\n"
     ]
    },
    {
     "name": "stdin",
     "output_type": "stream",
     "text": [
      "Enter the string :  minnie mouse\n",
      "Replacement character :  ?\n"
     ]
    },
    {
     "name": "stdout",
     "output_type": "stream",
     "text": [
      "replace_vowels minnie mouse  ? ➞ m?nn?? m??s?\n"
     ]
    },
    {
     "name": "stdin",
     "output_type": "stream",
     "text": [
      "Enter the string :  shakespeare\n",
      "Replacement character :  \n"
     ]
    },
    {
     "name": "stdout",
     "output_type": "stream",
     "text": [
      "replace_vowels shakespeare   ➞ shkspr\n"
     ]
    }
   ],
   "source": [
    "def replaces():\n",
    "    vowel = ['a','e','i','o','u','A','E','I','O','U']\n",
    "    in_str = input('Enter the string : ')\n",
    "    char = input('Replacement character : ')\n",
    "    string = in_str\n",
    "    for i in in_str:\n",
    "        if i in vowel :\n",
    "            in_str = in_str.replace(i , char)\n",
    "    print(f'replace_vowels {string}  {char} ➞ {in_str}')\n",
    "\n",
    "for i in range(3):    \n",
    "    replaces()"
   ]
  },
  {
   "cell_type": "markdown",
   "id": "1d8f7ba7-9af1-4403-9bde-6d489e88bb83",
   "metadata": {},
   "source": [
    "Question4.\n",
    "Write a function that calculates the factorial of a number recursively.\n",
    "Examples factorial(5) ➞ 120\n",
    "\n",
    "factorial(3) ➞ 6\n",
    "\n",
    "factorial(1) ➞ 1\n",
    "\n",
    "factorial(0) ➞ 1"
   ]
  },
  {
   "cell_type": "code",
   "execution_count": 4,
   "id": "16247ff0-20dd-4369-8aba-2652180f986f",
   "metadata": {},
   "outputs": [
    {
     "name": "stdout",
     "output_type": "stream",
     "text": [
      "factorial(5) ➞ 120\n",
      "factorial(3) ➞ 6\n",
      "factorial(1) ➞ 1\n",
      "factorial(0) ➞ 1\n"
     ]
    }
   ],
   "source": [
    "def factorial(num):\n",
    "    if num == 0:\n",
    "        return 1\n",
    "    else:\n",
    "        return num * factorial(num-1)\n",
    "\n",
    "print(f'factorial(5) ➞ {factorial(5)}')\n",
    "print(f'factorial(3) ➞ {factorial(3)}')\n",
    "print(f'factorial(1) ➞ {factorial(1)}')\n",
    "print(f'factorial(0) ➞ {factorial(0)}')\n"
   ]
  },
  {
   "cell_type": "markdown",
   "id": "7dc03953-e889-4ff7-bd24-9c050729bcfb",
   "metadata": {},
   "source": [
    "Question 5\n",
    "Hamming distance is the number of characters that differ between two strings.\n",
    "To illustrate: String1: \"abcbba\" String2: \"abcbda\"\n",
    "\n",
    "Hamming Distance: 1 - \"b\" vs. \"d\" is the only difference.\n",
    "Create a function that computes the hamming distance between two strings.\n",
    "Examples hamming_distance(\"abcde\", \"bcdef\") ➞ 5 hamming_distance(\"abcde\", \"abcde\") ➞ 0 hamming_distance(\"strong\", \"strung\") ➞ 1"
   ]
  },
  {
   "cell_type": "code",
   "execution_count": 5,
   "id": "18082cb4-e616-4469-aabe-2e7430b5bb9a",
   "metadata": {},
   "outputs": [
    {
     "name": "stdin",
     "output_type": "stream",
     "text": [
      "Enter the String_1:  absd\n",
      "Enter the String_2:  abscel\n"
     ]
    },
    {
     "name": "stdout",
     "output_type": "stream",
     "text": [
      "Both Strings Must be of Same Length\n"
     ]
    },
    {
     "name": "stdin",
     "output_type": "stream",
     "text": [
      "Enter the String_1:  abcd\n",
      "Enter the String_2:  abcf\n"
     ]
    },
    {
     "name": "stdout",
     "output_type": "stream",
     "text": [
      "Hamning Distance b/w abcd and abcf ➞ 1\n"
     ]
    },
    {
     "name": "stdin",
     "output_type": "stream",
     "text": [
      "Enter the String_1:  a;kk\n",
      "Enter the String_2:  al,k\n"
     ]
    },
    {
     "name": "stdout",
     "output_type": "stream",
     "text": [
      "Hamning Distance b/w a;kk and al,k ➞ 2\n"
     ]
    }
   ],
   "source": [
    "def genHamDistance():\n",
    "    in_string_1 = input('Enter the String_1: ')\n",
    "    in_string_2 = input('Enter the String_2: ')\n",
    "    if len(in_string_1) == len(in_string_2):\n",
    "        count = 0\n",
    "        for i in range(len(in_string_1)):\n",
    "            if in_string_1[i] != in_string_2[i]:\n",
    "                count = count+1\n",
    "        print(f'Hamning Distance b/w {in_string_1} and {in_string_2} ➞ {count}')\n",
    "    else:\n",
    "        print('Both Strings Must be of Same Length')\n",
    "\n",
    "for x in range(3):\n",
    "    genHamDistance()"
   ]
  },
  {
   "cell_type": "code",
   "execution_count": null,
   "id": "2bfcfd86-e5b2-4722-b1e9-358efbff6b82",
   "metadata": {},
   "outputs": [],
   "source": []
  }
 ],
 "metadata": {
  "kernelspec": {
   "display_name": "Python 3 (ipykernel)",
   "language": "python",
   "name": "python3"
  },
  "language_info": {
   "codemirror_mode": {
    "name": "ipython",
    "version": 3
   },
   "file_extension": ".py",
   "mimetype": "text/x-python",
   "name": "python",
   "nbconvert_exporter": "python",
   "pygments_lexer": "ipython3",
   "version": "3.10.6"
  }
 },
 "nbformat": 4,
 "nbformat_minor": 5
}
