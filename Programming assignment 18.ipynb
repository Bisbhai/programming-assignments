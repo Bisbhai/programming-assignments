{
 "cells": [
  {
   "cell_type": "markdown",
   "id": "21a0d0d8-b892-4b29-baf4-97159dd49611",
   "metadata": {},
   "source": [
    "Question 1\n",
    "Create a function that takes a list of non-negative integers and strings and return a new list without the strings.\n",
    "Examples filter_list([1, 2, \"a\", \"b\"]) ➞ [1, 2] filter_list([1, \"a\", \"b\", 0, 15]) ➞ [1, 0, 15] filter_list([1, 2, \"aasf\", \"1\", \"123\", 123]) ➞ [1, 2, 123]"
   ]
  },
  {
   "cell_type": "code",
   "execution_count": 1,
   "id": "12e54bd3-7d19-48e8-9cf6-556ecbdff7ca",
   "metadata": {},
   "outputs": [
    {
     "name": "stdin",
     "output_type": "stream",
     "text": [
      "Enter a list :  [1, 2, \"a\", \"b\"]\n"
     ]
    },
    {
     "name": "stdout",
     "output_type": "stream",
     "text": [
      "filter_list[1, 2, 'a', 'b'] ➞ [1, 2]\n"
     ]
    },
    {
     "name": "stdin",
     "output_type": "stream",
     "text": [
      "Enter a list :  [1, \"a\", \"b\", 0, 15]\n"
     ]
    },
    {
     "name": "stdout",
     "output_type": "stream",
     "text": [
      "filter_list[1, 'a', 'b', 0, 15] ➞ [1, 0, 15]\n"
     ]
    },
    {
     "name": "stdin",
     "output_type": "stream",
     "text": [
      "Enter a list :  [1, 2, \"aasf\", \"1\", \"123\", 123]\n"
     ]
    },
    {
     "name": "stdout",
     "output_type": "stream",
     "text": [
      "filter_list[1, 2, 'aasf', '1', '123', 123] ➞ [1, 2, 123]\n"
     ]
    }
   ],
   "source": [
    "def func1():\n",
    "    rlt=[]\n",
    "    in_str = eval(input(\"Enter a list : \"))\n",
    "    for i in in_str:\n",
    "        if type(i)==int:\n",
    "            rlt.append(i)\n",
    "    print(f'filter_list{in_str} ➞ {rlt}')\n",
    "    \n",
    "for i in range(3):\n",
    "    func1()"
   ]
  },
  {
   "cell_type": "markdown",
   "id": "c77b0fe9-fdcb-4899-8c92-46420db8161b",
   "metadata": {},
   "source": [
    "Question 2\n",
    "The \"Reverser\" takes a string as input and returns that string in reverse order, with the opposite case.\n",
    "Examples reverse(\"Hello World\") ➞ \"DLROw OLLEh\" reverse(\"ReVeRsE\") ➞ \"eSrEvEr\" reverse(\"Radar\") ➞ \"RADAr\""
   ]
  },
  {
   "cell_type": "code",
   "execution_count": 2,
   "id": "fb9ac472-acd8-46e8-9640-9d6959378d98",
   "metadata": {},
   "outputs": [
    {
     "name": "stdout",
     "output_type": "stream",
     "text": [
      "Hello World ➞ DLROw OLLEh\n",
      "ReVeRsE ➞ eSrEvEr\n",
      "Radar ➞ RADAr\n"
     ]
    }
   ],
   "source": [
    "def Reverser(in_str):\n",
    "    print(f'{in_str} ➞ {in_str[::-1].swapcase()}')\n",
    "    \n",
    "Reverser('Hello World') \n",
    "Reverser('ReVeRsE')\n",
    "Reverser('Radar')"
   ]
  },
  {
   "cell_type": "markdown",
   "id": "c72ba060-a826-493d-9a80-e9096980a091",
   "metadata": {},
   "source": [
    "Question 3\n",
    "You can assign variables from lists like this:\n",
    "lst = [1, 2, 3, 4, 5, 6] first = lst[0] middle = lst[1:-1] last = lst[-1] print(first) ➞ outputs 1 print(middle) ➞ outputs [2, 3, 4, 5] print(last) ➞ outputs 6\n",
    "\n",
    "With Python 3, you can assign variables from lists in a much more succinct way. Create variables first, middle and last from the given list using destructuring assignment (check the Resources tab for some examples), where:\n",
    "first ➞ 1 middle ➞ [2, 3, 4, 5] last ➞ 6\n",
    "\n",
    "Your task is to unpack the list writeyourcodehere into three variables, being first, middle, and last, with middle being everything in between the first and last element. Then print all three variables."
   ]
  },
  {
   "cell_type": "code",
   "execution_count": 4,
   "id": "d354ef58-24e8-446d-931a-493c9bf3ee4f",
   "metadata": {},
   "outputs": [
    {
     "name": "stdout",
     "output_type": "stream",
     "text": [
      "first ➞ 1\n",
      "middle ➞ [2, 3, 4, 5]\n",
      "last ➞ 6\n"
     ]
    }
   ],
   "source": [
    "first, *middle, last = [1,2,3,4,5,6]\n",
    "print(f'first ➞ {first}')\n",
    "print(f'middle ➞ {middle}')\n",
    "print(f'last ➞ {last}')"
   ]
  },
  {
   "cell_type": "markdown",
   "id": "8ceff7c7-e7bc-4dd7-b089-2edb8b6c64a7",
   "metadata": {},
   "source": [
    "Question 4\n",
    "Write a function that calculates the factorial of a number recursively.\n",
    "Examples factorial(5) ➞ 120 factorial(3) ➞ 6 factorial(1) ➞ 1 factorial(0) ➞ 1"
   ]
  },
  {
   "cell_type": "code",
   "execution_count": 5,
   "id": "db5fb428-44e2-4c14-bee7-b4788124b453",
   "metadata": {},
   "outputs": [
    {
     "name": "stdout",
     "output_type": "stream",
     "text": [
      "factorial(5) ➞ 120\n",
      "factorial(3) ➞ 6\n",
      "factorial(1) ➞ 1\n",
      "factorial(0) ➞ 1\n"
     ]
    }
   ],
   "source": [
    "def factorial(n):\n",
    "    if n==0:\n",
    "        return 1\n",
    "    return n * factorial(n-1)\n",
    "\n",
    "print(f'factorial(5) ➞ {factorial(5)}')\n",
    "print(f'factorial(3) ➞ {factorial(3)}')\n",
    "print(f'factorial(1) ➞ {factorial(1)}')\n",
    "print(f'factorial(0) ➞ {factorial(0)}')"
   ]
  },
  {
   "cell_type": "markdown",
   "id": "140d89bd-da75-4b0b-9b5a-2cdee1588fd9",
   "metadata": {},
   "source": [
    "Question 5\n",
    "Write a function that moves all elements of one type to the end of the list.\n",
    "Examples move_to_end([1, 3, 2, 4, 4, 1], 1) ➞ [3, 2, 4, 4, 1, 1]\n",
    "\n",
    "Move all the 1st to the end of the array.\n",
    "move_to_end([7, 8, 9, 1, 2, 3, 4], 9) ➞ [7, 8, 1, 2, 3, 4, 9] move_to_end([\"a\", \"a\", \"a\", \"b\"], \"a\") ➞ [\"b\", \"a\", \"a\", \"a\"]"
   ]
  },
  {
   "cell_type": "code",
   "execution_count": 6,
   "id": "4c37f902-3cfc-4e47-9d77-b172e5154b64",
   "metadata": {},
   "outputs": [
    {
     "name": "stdout",
     "output_type": "stream",
     "text": [
      "move_to_end([1, 3, 2, 4, 4, 1], 1) ➞ [3, 2, 4, 4, 1, 1]\n",
      "move_to_end([7, 8, 9, 1, 2, 3, 4], 9) ➞ [7, 8, 1, 2, 3, 4, 9]\n",
      "move_to_end([\"a\", \"a\", \"a\", \"b\"], \"a\") ➞ ['b', 'a', 'a', 'a']\n"
     ]
    }
   ],
   "source": [
    "def move_to_end(list,num):\n",
    "    first_end = []\n",
    "    second_end = []\n",
    "    for ele in list:\n",
    "        if ele == num:\n",
    "            second_end.append(ele)\n",
    "        else:\n",
    "            first_end.append(ele)\n",
    "    first_end.extend(second_end)\n",
    "    return first_end\n",
    "    \n",
    "print(f'move_to_end([1, 3, 2, 4, 4, 1], 1) ➞ {move_to_end([1, 3, 2, 4, 4, 1], 1)}')\n",
    "print(f'move_to_end([7, 8, 9, 1, 2, 3, 4], 9) ➞ {move_to_end([7, 8, 9, 1, 2, 3, 4], 9)}')\n",
    "print(f'move_to_end([\"a\", \"a\", \"a\", \"b\"], \"a\") ➞ {move_to_end([\"a\", \"a\", \"a\", \"b\"], \"a\")}')"
   ]
  },
  {
   "cell_type": "code",
   "execution_count": null,
   "id": "a45f99ed-33c3-4c50-935c-59af4ca2d9cc",
   "metadata": {},
   "outputs": [],
   "source": []
  }
 ],
 "metadata": {
  "kernelspec": {
   "display_name": "Python 3 (ipykernel)",
   "language": "python",
   "name": "python3"
  },
  "language_info": {
   "codemirror_mode": {
    "name": "ipython",
    "version": 3
   },
   "file_extension": ".py",
   "mimetype": "text/x-python",
   "name": "python",
   "nbconvert_exporter": "python",
   "pygments_lexer": "ipython3",
   "version": "3.10.6"
  }
 },
 "nbformat": 4,
 "nbformat_minor": 5
}
