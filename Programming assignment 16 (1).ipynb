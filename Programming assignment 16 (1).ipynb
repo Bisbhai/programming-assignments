{
 "cells": [
  {
   "cell_type": "markdown",
   "id": "a1791d89-dfba-4235-83f2-cf892aae9126",
   "metadata": {},
   "source": [
    "Question1.\n",
    "Write a function that stutters a word as if someone is struggling to read it. The first two letters are repeated twice with an ellipsis ... and space after each, and then the word is pronounced with a question mark ?.\n",
    "Examples stutter(\"incredible\") ➞ \"in... in... incredible?\"\n",
    "\n",
    "stutter(\"enthusiastic\") ➞ \"en... en... enthusiastic?\"\n",
    "\n",
    "stutter(\"outstanding\") ➞ \"ou... ou... outstanding?\"\n",
    "\n",
    "Hint :- Assume all input is in lower case and at least two characters long."
   ]
  },
  {
   "cell_type": "code",
   "execution_count": 1,
   "id": "57748f8e-b28c-44de-8143-f6f74e6161e1",
   "metadata": {},
   "outputs": [
    {
     "name": "stdin",
     "output_type": "stream",
     "text": [
      "Enter a word :  bis bhai\n"
     ]
    },
    {
     "name": "stdout",
     "output_type": "stream",
     "text": [
      "bi...  bi...  bis bhai?\n"
     ]
    },
    {
     "name": "stdin",
     "output_type": "stream",
     "text": [
      "Enter a word :  god of anime\n"
     ]
    },
    {
     "name": "stdout",
     "output_type": "stream",
     "text": [
      "go...  go...  god of anime?\n"
     ]
    },
    {
     "name": "stdin",
     "output_type": "stream",
     "text": [
      "Enter a word :  good boy\n"
     ]
    },
    {
     "name": "stdout",
     "output_type": "stream",
     "text": [
      "go...  go...  good boy?\n"
     ]
    }
   ],
   "source": [
    "def stutters():\n",
    "    for i in range(3):\n",
    "        input_str = input('Enter a word : ')\n",
    "        print(input_str[0:2]+'... ',input_str[0:2]+'... ',input_str+'?')\n",
    "stutters()      "
   ]
  },
  {
   "cell_type": "markdown",
   "id": "1ccd6814-57a7-4800-a4fd-4670596fa645",
   "metadata": {},
   "source": [
    "Question 2.\n",
    "Create a function that takes an angle in radians and returns the corresponding angle in degrees rounded to one decimal place.\n",
    "Examples radians_to_degrees(1) ➞ 57.3\n",
    "\n",
    "radians_to_degrees(20) ➞ 1145.9\n",
    "\n",
    "radians_to_degrees(50) ➞ 2864.8"
   ]
  },
  {
   "cell_type": "code",
   "execution_count": 3,
   "id": "9a14f425-8565-4c76-8e2a-c587f34a5e81",
   "metadata": {},
   "outputs": [
    {
     "name": "stdin",
     "output_type": "stream",
     "text": [
      "Enter an angle in Radians :  57\n"
     ]
    },
    {
     "name": "stdout",
     "output_type": "stream",
     "text": [
      "3265.9 degree\n"
     ]
    },
    {
     "name": "stdin",
     "output_type": "stream",
     "text": [
      "Enter an angle in Radians :  65\n"
     ]
    },
    {
     "name": "stdout",
     "output_type": "stream",
     "text": [
      "3724.2 degree\n"
     ]
    },
    {
     "name": "stdin",
     "output_type": "stream",
     "text": [
      "Enter an angle in Radians :  45\n"
     ]
    },
    {
     "name": "stdout",
     "output_type": "stream",
     "text": [
      "2578.3 degree\n"
     ]
    }
   ],
   "source": [
    "import math\n",
    "def radian_to_degree():\n",
    "    num = int(input('Enter an angle in Radians : '))\n",
    "    result = (180/math.pi)*num\n",
    "    print(f'{result:.1f} degree')\n",
    "    \n",
    "for i in range(3):\n",
    "    radian_to_degree()"
   ]
  },
  {
   "cell_type": "markdown",
   "id": "035401f0-17c7-4e05-bd5c-fca9ee1086db",
   "metadata": {},
   "source": [
    "Question 3.\n",
    "In this challenge, establish if a given integer num is a Curzon number. If 1 plus 2 elevated to num is exactly divisible by 1 plus 2 multiplied by num, then num is a Curzon number.\n",
    "Given a non-negative integer num, implement a function that returns True if num is a Curzon number, or False otherwise. Examples is_curzon(5) ➞ True\n",
    "\n",
    "2 ** 5 + 1 = 33\n",
    "2 * 5 + 1 = 11\n",
    "33 is a multiple of 11\n",
    "is_curzon(10) ➞ False\n",
    "\n",
    "2 ** 10 + 1 = 1025\n",
    "2 * 10 + 1 = 21\n",
    "1025 is not a multiple of 21\n",
    "is_curzon(14) ➞ True\n",
    "\n",
    "2 ** 14 + 1 = 16385\n",
    "2 * 14 + 1 = 29\n",
    "16385 is a multiple of 29"
   ]
  },
  {
   "cell_type": "code",
   "execution_count": 4,
   "id": "b7c2b55d-d86c-422f-accb-ecd402be6649",
   "metadata": {},
   "outputs": [
    {
     "name": "stdin",
     "output_type": "stream",
     "text": [
      "Enter a number:  5\n"
     ]
    },
    {
     "name": "stdout",
     "output_type": "stream",
     "text": [
      "5 is a Curzon Number\n"
     ]
    },
    {
     "name": "stdin",
     "output_type": "stream",
     "text": [
      "Enter a number:  53\n"
     ]
    },
    {
     "name": "stdout",
     "output_type": "stream",
     "text": [
      "53 is a Curzon Number\n"
     ]
    },
    {
     "name": "stdin",
     "output_type": "stream",
     "text": [
      "Enter a number:  25\n"
     ]
    },
    {
     "name": "stdout",
     "output_type": "stream",
     "text": [
      "25 is Not a Curzon Number\n"
     ]
    }
   ],
   "source": [
    "def isCurzon():\n",
    "    num = int(input(\"Enter a number: \"))\n",
    "    if (pow(2,num)+1)%((2*num)+1) == 0:\n",
    "        print(f'{num} is a Curzon Number')\n",
    "    else:\n",
    "        print(f'{num} is Not a Curzon Number')\n",
    "\n",
    "for i in range(3):\n",
    "    isCurzon()"
   ]
  },
  {
   "cell_type": "markdown",
   "id": "199ac168-3d2e-4173-a77a-52fd46867d1b",
   "metadata": {},
   "source": [
    "Question 4.\n",
    "Given the side length x find the area of a hexagon.\n",
    "Examples\n",
    "\n",
    "area_of_hexagon(1) ➞ 2.6\n",
    "area_of_hexagon(2) ➞ 10.4\n",
    "area_of_hexagon(3) ➞ 23.4"
   ]
  },
  {
   "cell_type": "code",
   "execution_count": 5,
   "id": "41bc6875-f680-437e-aaa0-1ab94c20cb08",
   "metadata": {},
   "outputs": [
    {
     "name": "stdin",
     "output_type": "stream",
     "text": [
      "Enter the side of hexagon :  6\n"
     ]
    },
    {
     "name": "stdout",
     "output_type": "stream",
     "text": [
      "Area of hexagon 93.5\n"
     ]
    },
    {
     "name": "stdin",
     "output_type": "stream",
     "text": [
      "Enter the side of hexagon :  20\n"
     ]
    },
    {
     "name": "stdout",
     "output_type": "stream",
     "text": [
      "Area of hexagon 1039.2\n"
     ]
    },
    {
     "name": "stdin",
     "output_type": "stream",
     "text": [
      "Enter the side of hexagon :  23\n"
     ]
    },
    {
     "name": "stdout",
     "output_type": "stream",
     "text": [
      "Area of hexagon 1374.4\n"
     ]
    }
   ],
   "source": [
    "def areaOfHex():\n",
    "    num = eval(input('Enter the side of hexagon : '))\n",
    "    Area = ((3*math.sqrt(3))/2)*(pow(num,2))\n",
    "    print(f'Area of hexagon {Area:.1f}')\n",
    "\n",
    "for i in range(3):\n",
    "    areaOfHex()"
   ]
  },
  {
   "cell_type": "markdown",
   "id": "8bdc026f-ab78-4065-a5ef-c8ff20b67425",
   "metadata": {},
   "source": [
    "Question 5.\n",
    "Create a function that returns a base-2 (binary) representation of a base-10 (decimal) string number. To convert is simple: ((2) means base-2 and (10) means base-10)\n",
    "010101001(2) = 1 + 8 + 32 + 128. Going from right to left, the value of the most right bit is 1, now from that every bit to the left will be x2 the value, value of an 8 bit binary numbers are (256, 128, 64, 32, 16, 8, 4, 2, 1). Examples binary(1) ➞ \"1\"\n",
    "\n",
    "1 * 1 = 1\n",
    "binary(5) ➞ \"101\"\n",
    "\n",
    "1 * 1 + 1 * 4 = 5\n",
    "binary(10) ➞ \"1010\"\n",
    "\n",
    "1 * 2 + 1 * 8 = 10"
   ]
  },
  {
   "cell_type": "code",
   "execution_count": 6,
   "id": "205a248d-20d9-44f5-8c03-6c1d7093696e",
   "metadata": {},
   "outputs": [
    {
     "name": "stdin",
     "output_type": "stream",
     "text": [
      "Enter a Number:  3\n"
     ]
    },
    {
     "name": "stdout",
     "output_type": "stream",
     "text": [
      "Binary of 3 ➞ 11\n"
     ]
    },
    {
     "name": "stdin",
     "output_type": "stream",
     "text": [
      "Enter a Number:  25\n"
     ]
    },
    {
     "name": "stdout",
     "output_type": "stream",
     "text": [
      "Binary of 25 ➞ 11001\n"
     ]
    },
    {
     "name": "stdin",
     "output_type": "stream",
     "text": [
      "Enter a Number:  25\n"
     ]
    },
    {
     "name": "stdout",
     "output_type": "stream",
     "text": [
      "Binary of 25 ➞ 11001\n"
     ]
    }
   ],
   "source": [
    "def getBinary():\n",
    "    num = int(input(\"Enter a Number: \"))\n",
    "    result = bin(num).replace('0b','') \n",
    "    print(f'Binary of {num} ➞ {result}')\n",
    "\n",
    "for i in range(3):\n",
    "    getBinary()"
   ]
  },
  {
   "cell_type": "code",
   "execution_count": null,
   "id": "46031f54-e68d-467c-a5d5-c4b4e42f1d15",
   "metadata": {},
   "outputs": [],
   "source": []
  }
 ],
 "metadata": {
  "kernelspec": {
   "display_name": "Python 3 (ipykernel)",
   "language": "python",
   "name": "python3"
  },
  "language_info": {
   "codemirror_mode": {
    "name": "ipython",
    "version": 3
   },
   "file_extension": ".py",
   "mimetype": "text/x-python",
   "name": "python",
   "nbconvert_exporter": "python",
   "pygments_lexer": "ipython3",
   "version": "3.10.6"
  }
 },
 "nbformat": 4,
 "nbformat_minor": 5
}
