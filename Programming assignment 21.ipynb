{
 "cells": [
  {
   "cell_type": "markdown",
   "id": "054721e1-c9f0-4ccc-892f-a2a70a8d3cac",
   "metadata": {},
   "source": [
    "Question1\n",
    "Write a function that takes a list and a number as arguments. Add the number to the end of the list, then remove the first element of the list. The function should then return the updated list.\n",
    "Examples\n",
    "next_in_line([5, 6, 7, 8, 9], 1) ➞ [6, 7, 8, 9, 1] next_in_line([7, 6, 3, 23, 17], 10) ➞ [6, 3, 23, 17, 10] next_in_line([1, 10, 20, 42 ], 6) ➞ [10, 20, 42, 6] next_in_line([], 6) ➞ \"No list has been selected\""
   ]
  },
  {
   "cell_type": "code",
   "execution_count": 1,
   "id": "8c2281b6-be79-44c2-ba8d-914c1924d246",
   "metadata": {},
   "outputs": [
    {
     "name": "stdout",
     "output_type": "stream",
     "text": [
      "[6, 7, 8, 9, 1]\n",
      "[6, 3, 23, 17, 10]\n",
      "[10, 20, 42, 6]\n",
      "No list has been selected\n"
     ]
    }
   ],
   "source": [
    "def next_in_line(in_list,in_num):\n",
    "    if len(in_list)>1:\n",
    "        in_list.append(in_num)\n",
    "        in_list.remove(in_list[0])\n",
    "        print(in_list)\n",
    "    else:\n",
    "        print(\"No list has been selected\")\n",
    "        \n",
    "next_in_line([5, 6, 7, 8, 9], 1)   \n",
    "next_in_line([7, 6, 3, 23, 17], 10)\n",
    "next_in_line([1, 10, 20, 42 ], 6)\n",
    "next_in_line([], 6)"
   ]
  },
  {
   "cell_type": "markdown",
   "id": "479c803b-3ab2-41c2-a1aa-347e4fa2ef1b",
   "metadata": {},
   "source": [
    "Question2\n",
    "Create the function that takes a list of dictionaries and returns the sum of people's budgets.\n",
    "Examples\n",
    "get_budgets([ { \"name\": \"John\", \"age\": 21, \"budget\": 23000 }, { \"name\": \"Steve\", \"age\": 32, \"budget\": 40000 }, { \"name\": \"Martin\", \"age\": 16, \"budget\": 2700 } ]) ➞ 65700 get_budgets([ { \"name\": \"John\", \"age\": 21, \"budget\": 29000 }, { \"name\": \"Steve\", \"age\": 32, \"budget\": 32000 }, { \"name\": \"Martin\", \"age\": 16, \"budget\": 1600 } ]) ➞ 62600"
   ]
  },
  {
   "cell_type": "code",
   "execution_count": 2,
   "id": "bc5bfc3d-7838-4d8b-85c2-c6ca178b1342",
   "metadata": {},
   "outputs": [
    {
     "name": "stdout",
     "output_type": "stream",
     "text": [
      "Budget ➞ 65700\n",
      "Budget ➞ 62600\n"
     ]
    }
   ],
   "source": [
    "def get_budgets(in_dict):\n",
    "    output=0\n",
    "    for i in in_dict:\n",
    "        output+=i[\"budget\"]\n",
    "    print(f\"Budget ➞ {output}\")\n",
    "\n",
    "get_budgets([\n",
    "{ \"name\": \"John\", \"age\": 21, \"budget\": 23000 },\n",
    "{ \"name\": \"Steve\", \"age\": 32, \"budget\": 40000 },\n",
    "{ \"name\": \"Martin\", \"age\": 16, \"budget\": 2700 }\n",
    "])    \n",
    "get_budgets([\n",
    "{ \"name\": \"John\", \"age\": 21, \"budget\": 29000 },\n",
    "{ \"name\": \"Steve\", \"age\": 32, \"budget\": 32000 },\n",
    "{ \"name\": \"Martin\", \"age\": 16, \"budget\": 1600 }\n",
    "])        "
   ]
  },
  {
   "cell_type": "markdown",
   "id": "d673a55e-cbfe-4ca0-8d5a-bcf25a8fdb6a",
   "metadata": {},
   "source": [
    "Question3\n",
    "Create a function that takes a string and returns a string with its letters in alphabetical order.\n",
    "Examples\n",
    "alphabet_soup(\"hello\") ➞ \"ehllo\" alphabet_soup(\"edabit\") ➞ \"abdeit\" alphabet_soup(\"hacker\") ➞ \"acehkr\" alphabet_soup(\"geek\") ➞ \"eegk\" alphabet_soup(\"javascript\") ➞ \"aacijprstv\""
   ]
  },
  {
   "cell_type": "code",
   "execution_count": 3,
   "id": "072f7bef-db6a-4570-8691-72b0e160ffbc",
   "metadata": {},
   "outputs": [
    {
     "name": "stdout",
     "output_type": "stream",
     "text": [
      "alphabet_soup hello ➞ ehllo\n",
      "alphabet_soup edabit ➞ abdeit\n",
      "alphabet_soup hacker ➞ acehkr\n",
      "alphabet_soup geek ➞ eegk\n",
      "alphabet_soup javascript ➞ aacijprstv\n"
     ]
    }
   ],
   "source": [
    "def alphabet_soup(in_str):\n",
    "    out_str = ''.join(sorted(in_str))\n",
    "    print(f\"alphabet_soup {in_str} ➞ {out_str}\")\n",
    "\n",
    "alphabet_soup(\"hello\")\n",
    "alphabet_soup(\"edabit\") \n",
    "alphabet_soup(\"hacker\")\n",
    "alphabet_soup(\"geek\")\n",
    "alphabet_soup(\"javascript\")\n"
   ]
  },
  {
   "cell_type": "markdown",
   "id": "6c4a8713-0aca-4e81-b96a-50b38818ea20",
   "metadata": {},
   "source": [
    "Question4\n",
    "Suppose that you invest $10,000 for 10 years at an interest rate of 6% compounded monthly. What will be the value of your investment at the end of the 10 year period? Create a function that accepts the principal p, the term in years t, the interest rate r, and the number of compounding periods per year n. The function returns the value at the end of term rounded to the nearest cent. For the example above: compound_interest(10000, 10, 0.06, 12) ➞ 18193.97 Note that the interest rate is given as a decimal and n=12 because with monthly compounding there are 12 periods per year. Compounding can also be done annually, quarterly, weekly, or daily. Examples compound_interest(100, 1, 0.05, 1) ➞ 105.0 compound_interest(3500, 15, 0.1, 4) ➞ 15399.26 compound_interest(100000, 20, 0.15, 365) ➞ 2007316.26"
   ]
  },
  {
   "cell_type": "code",
   "execution_count": 4,
   "id": "7618a055-2f00-4762-a7f1-7cb2943a528a",
   "metadata": {},
   "outputs": [
    {
     "name": "stdout",
     "output_type": "stream",
     "text": [
      "Output ➞ 105.00\n",
      "Output ➞ 15399.26\n",
      "Output ➞ 2007316.26\n"
     ]
    }
   ],
   "source": [
    "def compound_interest(p,t,r,n):\n",
    "    ci = p*(1+(r/n))**(n*t)\n",
    "    print(f'Output ➞ {ci:.2f}')\n",
    "\n",
    "compound_interest(100, 1, 0.05, 1)\n",
    "compound_interest(3500, 15, 0.1, 4)\n",
    "compound_interest(100000, 20, 0.15, 365)"
   ]
  },
  {
   "cell_type": "markdown",
   "id": "29528c98-ad87-4d77-912e-0890e461be3a",
   "metadata": {},
   "source": [
    "Question5\n",
    "Write a function that takes a list of elements and returns only the integers.\n",
    "Examples\n",
    "return_only_integer([9, 2, \"space\", \"car\", \"lion\", 16]) ➞ [9, 2, 16] return_only_integer([\"hello\", 81, \"basketball\", 123, \"fox\"]) ➞ [81, 123] return_only_integer([10, \"121\", 56, 20, \"car\", 3, \"lion\"]) ➞ [10, 56, 20, 3] return_only_integer([\"String\", True, 3.3, 1]) ➞ [1]"
   ]
  },
  {
   "cell_type": "code",
   "execution_count": 5,
   "id": "8b07e8a9-67d6-4965-ae39-41016afc7fd2",
   "metadata": {},
   "outputs": [
    {
     "name": "stdout",
     "output_type": "stream",
     "text": [
      "return_only_integer [9, 2, 'space', 'car', 'lion', 16] ➞ [9, 2, 16]\n",
      "return_only_integer ['hello', 81, 'basketball', 123, 'fox'] ➞ [81, 123]\n",
      "return_only_integer [10, '121', 56, 20, 'car', 3, 'lion'] ➞ [10, 56, 20, 3]\n",
      "return_only_integer ['String', True, 3.3, 1] ➞ [1]\n"
     ]
    }
   ],
   "source": [
    "def return_only_integer(in_list):\n",
    "    out_list=[]\n",
    "    for i in in_list:\n",
    "        if type(i)==int:\n",
    "            out_list.append(i)\n",
    "    print(f\"return_only_integer {in_list} ➞ {out_list}\")\n",
    "    \n",
    "return_only_integer([9, 2, \"space\", \"car\", \"lion\", 16])\n",
    "return_only_integer([\"hello\", 81, \"basketball\", 123, \"fox\"])\n",
    "return_only_integer([10, \"121\", 56, 20, \"car\", 3, \"lion\"])\n",
    "return_only_integer([\"String\", True, 3.3, 1])"
   ]
  },
  {
   "cell_type": "code",
   "execution_count": null,
   "id": "7fba13e8-cdd8-40df-a15a-b64f340551ed",
   "metadata": {},
   "outputs": [],
   "source": []
  },
  {
   "cell_type": "code",
   "execution_count": null,
   "id": "79aa8bd3-b8e3-45dc-8ec5-92421c6f6dfc",
   "metadata": {},
   "outputs": [],
   "source": []
  }
 ],
 "metadata": {
  "kernelspec": {
   "display_name": "Python 3 (ipykernel)",
   "language": "python",
   "name": "python3"
  },
  "language_info": {
   "codemirror_mode": {
    "name": "ipython",
    "version": 3
   },
   "file_extension": ".py",
   "mimetype": "text/x-python",
   "name": "python",
   "nbconvert_exporter": "python",
   "pygments_lexer": "ipython3",
   "version": "3.10.6"
  }
 },
 "nbformat": 4,
 "nbformat_minor": 5
}
