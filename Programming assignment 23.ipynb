{
 "cells": [
  {
   "cell_type": "markdown",
   "id": "5c0711db-2d09-4074-93cd-5dd6663cc30a",
   "metadata": {},
   "source": [
    "Question 1\n",
    "Create a function that takes a number as an argument and returns True or False depending on whether the number is symmetrical or not. A number is symmetrical when it is the same as its reverse.\n",
    "Examples\n",
    "is_symmetrical(7227) ➞ True is_symmetrical(12567) ➞ False is_symmetrical(44444444) ➞ True is_symmetrical(9939) ➞ False is_symmetrical(1112111) ➞ True"
   ]
  },
  {
   "cell_type": "code",
   "execution_count": 1,
   "id": "868b4344-8701-4152-b269-778e492fcd2e",
   "metadata": {},
   "outputs": [
    {
     "name": "stdout",
     "output_type": "stream",
     "text": [
      "is_symmetrical 7227 ➞ True\n",
      "is_symmetrical 12567 ➞ False\n",
      "is_symmetrical 44444444 ➞ True\n",
      "is_symmetrical 9939 ➞ False\n",
      "is_symmetrical 1112111 ➞ True\n"
     ]
    }
   ],
   "source": [
    "def is_symmetrical(num):\n",
    "    if str(num)==str(num)[::-1]:\n",
    "        print(f\"is_symmetrical {num} ➞ True\")\n",
    "    else:\n",
    "        print(f\"is_symmetrical {num} ➞ False\")\n",
    "        \n",
    "is_symmetrical(7227)\n",
    "is_symmetrical(12567)\n",
    "is_symmetrical(44444444)\n",
    "is_symmetrical(9939) \n",
    "is_symmetrical(1112111)  "
   ]
  },
  {
   "cell_type": "markdown",
   "id": "e7257063-342c-4a64-89d6-7a6d5ed2e806",
   "metadata": {},
   "source": [
    "Question 2\n",
    "Given a string of numbers separated by a comma and space, return the product of the numbers.\n",
    "Examples\n",
    "multiply_nums(\"2, 3\") ➞ 6 multiply_nums(\"1, 2, 3, 4\") ➞ 24 multiply_nums(\"54, 75, 453, 0\") ➞ 0 multiply_nums(\"10, -2\") ➞ -20"
   ]
  },
  {
   "cell_type": "code",
   "execution_count": 2,
   "id": "23180f7c-4aa2-458f-bfae-159173ac7047",
   "metadata": {},
   "outputs": [
    {
     "name": "stdout",
     "output_type": "stream",
     "text": [
      "multiply_nums 2, 3 ➞ 6\n",
      "multiply_nums 1, 2, 3, 4 ➞ 24\n",
      "multiply_nums 54, 75, 453, 0 ➞ 0\n",
      "multiply_nums 10, -2 ➞ -20\n"
     ]
    }
   ],
   "source": [
    "def multiply_nums(in_str):\n",
    "    mul=1\n",
    "    string = in_str.replace(' ','').split(',') \n",
    "    for i in string:\n",
    "        mul=mul*int(i)\n",
    "    print(f\"multiply_nums {in_str} ➞ {mul}\") \n",
    "\n",
    "multiply_nums(\"2, 3\")\n",
    "multiply_nums(\"1, 2, 3, 4\")\n",
    "multiply_nums(\"54, 75, 453, 0\")\n",
    "multiply_nums(\"10, -2\")    "
   ]
  },
  {
   "cell_type": "markdown",
   "id": "1352b6d2-5507-49aa-b68b-afd95839e4bb",
   "metadata": {},
   "source": [
    "Question 3\n",
    "Create a function that squares every digit of a number.\n",
    "Examples\n",
    "square_digits(9119) ➞ 811181 square_digits(2483) ➞ 416649 square_digits(3212) ➞ 9414\n",
    "\n",
    "Notes\n",
    "The function receives an integer and must return an integer."
   ]
  },
  {
   "cell_type": "code",
   "execution_count": 3,
   "id": "8c21bf23-31f0-44df-ad6f-82f854f002a7",
   "metadata": {},
   "outputs": [
    {
     "name": "stdout",
     "output_type": "stream",
     "text": [
      "square_digits 9119 ➞ 811181\n",
      "square_digits 2483 ➞ 416649\n",
      "square_digits 3212 ➞ 9414\n"
     ]
    }
   ],
   "source": [
    "def square_digits(in_num):\n",
    "    in_list = [str(int(i)**2) for i in str(in_num)]\n",
    "    out_list = ''.join(in_list)\n",
    "    print(f'square_digits {in_num} ➞ {int(out_list)}')\n",
    "\n",
    "square_digits(9119)\n",
    "square_digits(2483)\n",
    "square_digits(3212)"
   ]
  },
  {
   "cell_type": "markdown",
   "id": "d8259d84-ce09-4997-8deb-08e154b03a99",
   "metadata": {},
   "source": [
    "Question 4\n",
    "Create a function that sorts a list and removes all duplicate items from it.\n",
    "Examples\n",
    "setify([1, 3, 3, 5, 5]) ➞ [1, 3, 5] setify([4, 4, 4, 4]) ➞ [4] setify([5, 7, 8, 9, 10, 15]) ➞ [5, 7, 8, 9, 10, 15] setify([3, 3, 3, 2, 1]) ➞ [1, 2, 3]"
   ]
  },
  {
   "cell_type": "code",
   "execution_count": 4,
   "id": "57a8f9bc-8b33-4cac-9f4c-5938a4fb4654",
   "metadata": {},
   "outputs": [
    {
     "name": "stdout",
     "output_type": "stream",
     "text": [
      "setify [1, 3, 3, 5, 5] ➞ [1, 3, 5]\n",
      "setify [4, 4, 4, 4] ➞ [4]\n",
      "setify [5, 7, 8, 9, 10, 15] ➞ [5, 7, 8, 9, 10, 15]\n",
      "setify [3, 3, 3, 2, 1] ➞ [1, 2, 3]\n"
     ]
    }
   ],
   "source": [
    "def setify(lst):\n",
    "    out_list = sorted(set(lst))\n",
    "    print(f'setify {lst} ➞ {out_list}')\n",
    "\n",
    "setify([1, 3, 3, 5, 5]) \n",
    "setify([4, 4, 4, 4]) \n",
    "setify([5, 7, 8, 9, 10, 15])\n",
    "setify([3, 3, 3, 2, 1])  "
   ]
  },
  {
   "cell_type": "markdown",
   "id": "151d1315-b65c-4377-86e4-d2e0b601f34f",
   "metadata": {},
   "source": [
    "Question 5\n",
    "Create a function that returns the mean of all digits.\n",
    "Examples\n",
    "mean(42) ➞ 3 mean(12345) ➞ 3 mean(666) ➞ 6\n",
    "\n",
    "Notes\n",
    " The mean of all digits is the sum of digits / how many digits there are (e.g. mean of digits in 512 is (5+1+2)/3(number of digits) = 8/3=2).  The mean will always be an integer."
   ]
  },
  {
   "cell_type": "code",
   "execution_count": 5,
   "id": "048db073-703b-4d1f-b202-47258927963a",
   "metadata": {},
   "outputs": [
    {
     "name": "stdout",
     "output_type": "stream",
     "text": [
      "mean 42  ➞ 3\n",
      "mean 12345  ➞ 3\n",
      "mean 666  ➞ 6\n"
     ]
    }
   ],
   "source": [
    "def mean(in_num):\n",
    "    in_list = [int(i) for i in str(in_num)]\n",
    "    out_num = sum(in_list)/len(str(in_num))\n",
    "    print(f'mean {in_num}  ➞ {out_num:.0f}')\n",
    "    \n",
    "mean(42)\n",
    "mean(12345)\n",
    "mean(666)"
   ]
  },
  {
   "cell_type": "code",
   "execution_count": null,
   "id": "c1d63441-8905-40f2-a7fa-2e7cf2c3333b",
   "metadata": {},
   "outputs": [],
   "source": []
  },
  {
   "cell_type": "code",
   "execution_count": null,
   "id": "6637a59a-967a-4735-a8a2-93c1c2865ffc",
   "metadata": {},
   "outputs": [],
   "source": []
  },
  {
   "cell_type": "code",
   "execution_count": null,
   "id": "18fa9016-412c-4428-9a19-af010951be85",
   "metadata": {},
   "outputs": [],
   "source": []
  }
 ],
 "metadata": {
  "kernelspec": {
   "display_name": "Python 3 (ipykernel)",
   "language": "python",
   "name": "python3"
  },
  "language_info": {
   "codemirror_mode": {
    "name": "ipython",
    "version": 3
   },
   "file_extension": ".py",
   "mimetype": "text/x-python",
   "name": "python",
   "nbconvert_exporter": "python",
   "pygments_lexer": "ipython3",
   "version": "3.10.6"
  }
 },
 "nbformat": 4,
 "nbformat_minor": 5
}
