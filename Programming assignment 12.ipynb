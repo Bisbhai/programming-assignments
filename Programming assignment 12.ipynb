{
 "cells": [
  {
   "cell_type": "markdown",
   "id": "b3261390-a2c4-41b7-a094-12e2df6fb5a0",
   "metadata": {},
   "source": [
    "1. Write a Python program to Extract Unique values dictionary values?\n"
   ]
  },
  {
   "cell_type": "code",
   "execution_count": 1,
   "id": "a2ba957a-b941-47b6-9b9a-46cde176be43",
   "metadata": {},
   "outputs": [
    {
     "name": "stdout",
     "output_type": "stream",
     "text": [
      "dict_values(['hydrogen', 'carbon', 'neon', 'zinc', 'carbon', 'neon', 'zinc'])\n",
      "Unique values : ['zinc', 'hydrogen', 'neon', 'carbon']\n"
     ]
    }
   ],
   "source": [
    "in_dict = {1:'hydrogen',2:'carbon',3:'neon',4:'zinc',5:'carbon',6:'neon',7:'zinc'}\n",
    "print(in_dict.values())\n",
    "print('Unique values :',list(set(in_dict.values())))"
   ]
  },
  {
   "cell_type": "markdown",
   "id": "42911376-75bc-412e-ae4d-e9b68ceab6b0",
   "metadata": {},
   "source": [
    "2. Write a Python program to find the sum of all items in a dictionary?\n"
   ]
  },
  {
   "cell_type": "code",
   "execution_count": 2,
   "id": "d8f4ebc9-8614-4525-82a5-2b31d95596a8",
   "metadata": {},
   "outputs": [
    {
     "name": "stdout",
     "output_type": "stream",
     "text": [
      "Sum of items : 210\n"
     ]
    }
   ],
   "source": [
    "in_dict = {'a':10,'b':20,'c':30,'d':40,'e':50,'f':60}\n",
    "print('Sum of items :',sum(in_dict.values()))"
   ]
  },
  {
   "cell_type": "markdown",
   "id": "3c6c1ba3-ce21-4836-8f17-471ec3394fe5",
   "metadata": {},
   "source": [
    "3. Write a Python program to Merging two Dictionaries?\n"
   ]
  },
  {
   "cell_type": "code",
   "execution_count": 3,
   "id": "9ac56394-eaac-4303-8efb-f5d0b77fa407",
   "metadata": {},
   "outputs": [
    {
     "name": "stdout",
     "output_type": "stream",
     "text": [
      "{1: 'Red', 2: 'Blue', 3: 'Green', 4: 'Pink', 'a': 100, 'b': 200, 'c': 300, 'd': 400}\n"
     ]
    }
   ],
   "source": [
    "dict_1 = {1:'Red', 2:'Blue', 3:'Green', 4:'Pink'}\n",
    "dict_2 = {'a':100,'b':200,'c':300,'d':400}\n",
    "dict_1.update(dict_2)\n",
    "print(dict_1)"
   ]
  },
  {
   "cell_type": "code",
   "execution_count": null,
   "id": "adbb2147-df39-4ee2-b349-ffaef87bd3aa",
   "metadata": {},
   "outputs": [],
   "source": [
    "4. Write a Python program to convert key-values list to flat dictionary?\n"
   ]
  },
  {
   "cell_type": "code",
   "execution_count": 4,
   "id": "a7c5a7d9-3367-450d-8303-b27a178352a8",
   "metadata": {},
   "outputs": [
    {
     "name": "stdout",
     "output_type": "stream",
     "text": [
      "{'a': 1, 'b': 2, 'c': 3, 'd': 4, 'e': 7, 'f': 6}\n"
     ]
    }
   ],
   "source": [
    "in_list=[('a',1),('b',2),('c',3),('d',4),('e',5),('f',6),('e',7)]\n",
    "in_dict={}\n",
    "for i in in_list:\n",
    "    in_dict[i[0]]=i[1]\n",
    "print(in_dict) "
   ]
  },
  {
   "cell_type": "markdown",
   "id": "3e965e67-e15b-4ac1-ba65-eba84524f567",
   "metadata": {},
   "source": [
    "5. Write a Python program to insertion at the beginning in OrderedDict?\n"
   ]
  },
  {
   "cell_type": "code",
   "execution_count": 5,
   "id": "b9c535e3-320a-4c8d-ae57-cefa91e40826",
   "metadata": {},
   "outputs": [
    {
     "name": "stdout",
     "output_type": "stream",
     "text": [
      "OrderedDict([('a', 1), ('b', 2), ('c', 3), ('d', 4), ('e', 5), ('f', 6), (7, 'last')])\n",
      "OrderedDict([(7, 'last'), ('a', 1), ('b', 2), ('c', 3), ('d', 4), ('e', 5), ('f', 6)])\n"
     ]
    }
   ],
   "source": [
    "from collections import OrderedDict\n",
    "dict_1 = OrderedDict({'a':1,'b':2,'c':3,'d':4,'e':5,'f':6})\n",
    "dict_2 = {7:'last'}\n",
    "dict_1.update(dict_2)\n",
    "print(dict_1)\n",
    "dict_1.move_to_end(7,last=False)\n",
    "print(dict_1)"
   ]
  },
  {
   "cell_type": "markdown",
   "id": "cadf8801-d670-43d0-85fd-be8dd320874f",
   "metadata": {},
   "source": [
    "6. Write a Python program to check order of character in string using OrderedDict()?\n"
   ]
  },
  {
   "cell_type": "code",
   "execution_count": 6,
   "id": "bc93d4d4-e28f-4407-85c9-984a3fff8b85",
   "metadata": {},
   "outputs": [
    {
     "name": "stdout",
     "output_type": "stream",
     "text": [
      "{'f': 6, 'a': 1, 'c': 3, 'e': 5, 'b': 2, 'd': 4}\n",
      "OrderedDict([('a', 1), ('b', 2), ('c', 3), ('d', 4), ('e', 5), ('f', 6)])\n"
     ]
    }
   ],
   "source": [
    "dict_1={'f':6,'a':1,'c':3,'e':5,'b':2,'d':4}\n",
    "print(dict_1)\n",
    "dict_2 = OrderedDict(dict(sorted(dict_1.items())))\n",
    "print(dict_2)"
   ]
  },
  {
   "cell_type": "code",
   "execution_count": null,
   "id": "727832f9-0635-4e1e-81fe-f695994b786c",
   "metadata": {},
   "outputs": [],
   "source": [
    "7. Write a Python program to sort Python Dictionaries by Key or Value?\n"
   ]
  },
  {
   "cell_type": "code",
   "execution_count": 7,
   "id": "f9178cf9-eba6-4abd-98b3-aa9237fd8134",
   "metadata": {},
   "outputs": [
    {
     "name": "stdout",
     "output_type": "stream",
     "text": [
      "{'a': 3, 'b': 4, 'c': 1, 'd': 2, 'e': 6, 'f': 5, 'g': 7}\n",
      "{'c': 1, 'd': 2, 'a': 3, 'b': 4, 'f': 5, 'e': 6, 'g': 7}\n"
     ]
    }
   ],
   "source": [
    "in_dict={'a':3,'b':4,'c':1,'d':2,'f':5,'e':6,'g':7}\n",
    "\n",
    "def sort_dict(in_dict,sort_type):\n",
    "    if sort_type == 'key':\n",
    "        print(dict(sorted(in_dict.items(), key=lambda x:x[0], reverse=False)))\n",
    "    else:\n",
    "        print(dict(sorted(in_dict.items(), key=lambda x:x[1], reverse=False)))\n",
    "        \n",
    "sort_dict(in_dict,'key')        \n",
    "sort_dict(in_dict,'value')"
   ]
  },
  {
   "cell_type": "code",
   "execution_count": null,
   "id": "5b595022-35e3-4bb4-b11e-909b1631e3a5",
   "metadata": {},
   "outputs": [],
   "source": []
  }
 ],
 "metadata": {
  "kernelspec": {
   "display_name": "Python 3 (ipykernel)",
   "language": "python",
   "name": "python3"
  },
  "language_info": {
   "codemirror_mode": {
    "name": "ipython",
    "version": 3
   },
   "file_extension": ".py",
   "mimetype": "text/x-python",
   "name": "python",
   "nbconvert_exporter": "python",
   "pygments_lexer": "ipython3",
   "version": "3.10.6"
  }
 },
 "nbformat": 4,
 "nbformat_minor": 5
}
