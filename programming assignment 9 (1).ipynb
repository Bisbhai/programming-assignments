{
 "cells": [
  {
   "cell_type": "markdown",
   "id": "763c917b-054b-4047-b564-e93d227b770c",
   "metadata": {},
   "source": [
    "1. Write a Python program to check if the given number is a Disarium Number?"
   ]
  },
  {
   "cell_type": "code",
   "execution_count": 1,
   "id": "229b6b16-b56f-4ab1-b7b0-85880b0fb1ae",
   "metadata": {},
   "outputs": [
    {
     "name": "stdin",
     "output_type": "stream",
     "text": [
      "Enter a number :  55\n"
     ]
    },
    {
     "name": "stdout",
     "output_type": "stream",
     "text": [
      "55 is not a disarium number.\n"
     ]
    },
    {
     "name": "stdin",
     "output_type": "stream",
     "text": [
      "Enter a number :  16\n"
     ]
    },
    {
     "name": "stdout",
     "output_type": "stream",
     "text": [
      "16 is not a disarium number.\n"
     ]
    }
   ],
   "source": [
    "def disarium_num():\n",
    "    num=input('Enter a number : ')\n",
    "\n",
    "    result = 0\n",
    "    for i in range(len(num)):\n",
    "            result += int(num[i])**(i+1)\n",
    "    if int(num) == result:\n",
    "        print(f'{num} is a disarium number.')\n",
    "    else:\n",
    "        print(f'{num} is not a disarium number.')\n",
    "        \n",
    "disarium_num()\n",
    "disarium_num()"
   ]
  },
  {
   "cell_type": "markdown",
   "id": "2dce0fe4-6353-44ba-ac05-b344ecf2274c",
   "metadata": {},
   "source": [
    "2. Write a Python program to print all disarium numbers between 1 to 100?"
   ]
  },
  {
   "cell_type": "code",
   "execution_count": 2,
   "id": "e6815e14-873d-4035-932b-faabb79411a3",
   "metadata": {},
   "outputs": [
    {
     "name": "stdin",
     "output_type": "stream",
     "text": [
      "Enter a number :  64\n"
     ]
    },
    {
     "name": "stdout",
     "output_type": "stream",
     "text": [
      "Disarium numbers from 1 to 100 : [1, 2, 3, 4, 5, 6, 7, 8, 9]\n"
     ]
    }
   ],
   "source": [
    "def find_disarium():\n",
    "    num = input('Enter a number : ')\n",
    "    l=[]\n",
    "    for n in range(1,int(num)+1):\n",
    "        n=str(n)\n",
    "        result=0\n",
    "        for i in range(len(n)):\n",
    "            result+=int(n[i])**(i+1)\n",
    "        if result==int(n):\n",
    "            l.append(result)\n",
    "    print(f'Disarium numbers from 1 to 100 : {l}')\n",
    "    \n",
    "find_disarium() "
   ]
  },
  {
   "cell_type": "markdown",
   "id": "acd5c181-cda9-43bf-a15e-f34574c780cf",
   "metadata": {},
   "source": [
    "3. Write a Python program to check if the given number is Happy Number?"
   ]
  },
  {
   "cell_type": "code",
   "execution_count": 3,
   "id": "2a6b0e0f-e064-4aa7-bbfe-ddf09d84c95c",
   "metadata": {},
   "outputs": [
    {
     "name": "stdout",
     "output_type": "stream",
     "text": [
      "7 is a happy number\n",
      "93 is not a happy number\n",
      "6 is not a happy number\n"
     ]
    }
   ],
   "source": [
    "def is_Happy_num(num):\n",
    "    track_num = set()\n",
    "    while num != 1:\n",
    "        num = sum(int(i)**2 for i in str(num))\n",
    "        if num in track_num:\n",
    "            return 'is not a happy number'\n",
    "        track_num.add(num)\n",
    "    return 'is a happy number'\n",
    "\n",
    "print(7,is_Happy_num(7))\n",
    "print(93,is_Happy_num(93))\n",
    "print(6,is_Happy_num(6))"
   ]
  },
  {
   "cell_type": "markdown",
   "id": "64872757-b5fd-4c8d-9dcc-3f3ae7bb7487",
   "metadata": {},
   "source": [
    "4. Write a Python program to print all happy numbers between 1 and 100?"
   ]
  },
  {
   "cell_type": "code",
   "execution_count": 4,
   "id": "d9857321-2c05-4f7b-a854-e6b37b8bc60a",
   "metadata": {},
   "outputs": [
    {
     "name": "stdout",
     "output_type": "stream",
     "text": [
      "The Happy Numbers between 1 and 100 are [1, 7, 10, 13, 19, 23, 28, 31, 32, 44, 49, 68, 70, 79, 82, 86, 91, 94, 97, 100]\n"
     ]
    }
   ],
   "source": [
    "def HappyNumber():\n",
    "    happyNumbersList = []\n",
    "    for num in range(1,101):\n",
    "        num=str(num)\n",
    "        holder = num\n",
    "        trackNumber = set()   \n",
    "        while True: \n",
    "            if num != '1' and num not in trackNumber:\n",
    "                trackNumber.add(num)\n",
    "                sum = 0\n",
    "                for n in range(len(num)):\n",
    "                    sum += int(num[n])**2\n",
    "                num = str(sum)\n",
    "            elif str(num) in trackNumber:\n",
    "                break\n",
    "            else:\n",
    "                happyNumbersList.append(int(holder))\n",
    "                break\n",
    "    print(f'The Happy Numbers between 1 and 100 are {happyNumbersList}')\n",
    "    \n",
    "HappyNumber()"
   ]
  },
  {
   "cell_type": "markdown",
   "id": "6f286842-83e3-498d-8c5a-e4d394493497",
   "metadata": {},
   "source": [
    "5. Write a Python program to determine whether the given number is a Harshad Number?"
   ]
  },
  {
   "cell_type": "code",
   "execution_count": 5,
   "id": "1c9fa598-ec5d-46e8-b118-2fa50a6defc4",
   "metadata": {},
   "outputs": [
    {
     "name": "stdin",
     "output_type": "stream",
     "text": [
      "Enter a number 144\n"
     ]
    },
    {
     "name": "stdout",
     "output_type": "stream",
     "text": [
      "144 is harshad number.\n"
     ]
    },
    {
     "name": "stdin",
     "output_type": "stream",
     "text": [
      "Enter a number 2\n"
     ]
    },
    {
     "name": "stdout",
     "output_type": "stream",
     "text": [
      "2 is harshad number.\n"
     ]
    }
   ],
   "source": [
    "def harshad_num(num):\n",
    "    s=0\n",
    "    for n in range(len(num)):\n",
    "        s += int(num[n])\n",
    "    if int(num)%s==0:\n",
    "        print(f'{num} is harshad number.')\n",
    "    else:\n",
    "        print(f'{num} is not a harshad number.')\n",
    "        \n",
    "for i in range(2):\n",
    "    num=input('Enter a number')\n",
    "    harshad_num(num)        \n",
    "        "
   ]
  },
  {
   "cell_type": "markdown",
   "id": "e080209d-2eca-422a-9df4-c0a9483ca709",
   "metadata": {},
   "source": [
    "6. Write a Python program to print all pronic numbers between 1 and 100?"
   ]
  },
  {
   "cell_type": "code",
   "execution_count": 6,
   "id": "95fafcfc-fb96-4e52-9cb5-a6bc0e6f754d",
   "metadata": {},
   "outputs": [
    {
     "name": "stdout",
     "output_type": "stream",
     "text": [
      "[2, 6, 12, 20, 30, 42, 56, 72, 90, 110, 132, 156, 182, 210, 240, 272, 306, 342, 380, 420, 462, 506, 552, 600, 650, 702, 756, 812, 870, 930, 992, 1056, 1122, 1190, 1260, 1332, 1406, 1482, 1560, 1640, 1722, 1806, 1892, 1980, 2070, 2162, 2256, 2352, 2450, 2550, 2652, 2756, 2862, 2970, 3080, 3192, 3306, 3422, 3540, 3660, 3782, 3906, 4032, 4160, 4290, 4422, 4556, 4692, 4830, 4970, 5112, 5256, 5402, 5550, 5700, 5852, 6006, 6162, 6320, 6480, 6642, 6806, 6972, 7140, 7310, 7482, 7656, 7832, 8010, 8190, 8372, 8556, 8742, 8930, 9120, 9312, 9506, 9702, 9900, 10100]\n"
     ]
    }
   ],
   "source": [
    "def PronicNumbers():\n",
    "    pronic_num = []\n",
    "    for ele in range(1,101):\n",
    "        pronic_num.append((ele)*(ele+1))\n",
    "    print(pronic_num)\n",
    "                   \n",
    "PronicNumbers()"
   ]
  },
  {
   "cell_type": "code",
   "execution_count": null,
   "id": "a2e63c14-16ed-47ce-9bf9-5773b8fb4a3a",
   "metadata": {},
   "outputs": [],
   "source": []
  }
 ],
 "metadata": {
  "kernelspec": {
   "display_name": "Python 3 (ipykernel)",
   "language": "python",
   "name": "python3"
  },
  "language_info": {
   "codemirror_mode": {
    "name": "ipython",
    "version": 3
   },
   "file_extension": ".py",
   "mimetype": "text/x-python",
   "name": "python",
   "nbconvert_exporter": "python",
   "pygments_lexer": "ipython3",
   "version": "3.10.6"
  }
 },
 "nbformat": 4,
 "nbformat_minor": 5
}
