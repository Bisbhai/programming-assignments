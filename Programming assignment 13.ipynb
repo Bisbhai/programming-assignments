{
 "cells": [
  {
   "cell_type": "markdown",
   "id": "ccaf0a39-901d-4a1a-9834-91772743bade",
   "metadata": {},
   "source": [
    "Question 1:\n",
    "Write a program that calculates and prints the value according to the given formula:\n",
    "Q = Square root of [(2 * C * D)/H] Following are the fixed values of C and H: C is 50. H is 30. D is the variable whose values should be input to your program in a comma-separated sequence.\n",
    "\n",
    "Example\n",
    "Let us assume the following comma separated input sequence is given to the program: 100,150,180 The output of the program should be: 18,22,24\n",
    "\n"
   ]
  },
  {
   "cell_type": "code",
   "execution_count": 2,
   "id": "dc42cf5e-4c40-4ac4-a8b9-50938c39dd9e",
   "metadata": {},
   "outputs": [
    {
     "name": "stdin",
     "output_type": "stream",
     "text": [
      "Enter the Input:  10,12,13\n"
     ]
    },
    {
     "name": "stdout",
     "output_type": "stream",
     "text": [
      "Output: 5,6,6\n"
     ]
    }
   ],
   "source": [
    "from math import sqrt\n",
    "in_num = eval(input(\"Enter the Input: \"))\n",
    "out_num = []\n",
    "C = 50 \n",
    "H = 30 \n",
    "for D in in_num:\n",
    "    Q = str(int(sqrt((2*C*D)/H)))\n",
    "    out_num.append(Q)\n",
    "print(\"Output: {}\".format(','.join(out_num)))"
   ]
  },
  {
   "cell_type": "markdown",
   "id": "9d50e08d-ed1d-46e2-bc21-2e290a36deb8",
   "metadata": {},
   "source": [
    "Question 2:\n",
    "Write a program which takes 2 digits, X,Y as input and generates a 2-dimensional array. The element value in the i-th row and j-th column of the array should be i*j.\n",
    "Note: i=0,1.., X-1; j=0,1,¡Y-1.\n",
    "\n",
    "Example\n",
    "Suppose the following inputs are given to the program: 3,5 Then, the output of the program should be: [[0, 0, 0, 0, 0], [0, 1, 2, 3, 4], [0, 2, 4, 6, 8]]\n",
    "\n"
   ]
  },
  {
   "cell_type": "code",
   "execution_count": 3,
   "id": "99db9db1-81d4-49a4-9ce4-3042edb81588",
   "metadata": {},
   "outputs": [
    {
     "name": "stdin",
     "output_type": "stream",
     "text": [
      "Enter the No. of Rows: 5\n",
      "Enter the No. of Columns: 6\n"
     ]
    },
    {
     "name": "stdout",
     "output_type": "stream",
     "text": [
      "[[0, 0, 0, 0, 0, 0], [0, 1, 2, 3, 4, 5], [0, 2, 4, 6, 8, 10], [0, 3, 6, 9, 12, 15], [0, 4, 8, 12, 16, 20]]\n"
     ]
    }
   ],
   "source": [
    "import array as arr\n",
    "x = int(input('Enter the No. of Rows:'))\n",
    "y = int(input('Enter the No. of Columns:')) \n",
    "out_array = []\n",
    "for i in range(x):\n",
    "    out_array.insert(x,[])\n",
    "    for j in range(y):\n",
    "        out_array[i].append(i*j)\n",
    "print(out_array)"
   ]
  },
  {
   "cell_type": "markdown",
   "id": "e026cf70-b971-42e3-acf8-b0a67bf0d927",
   "metadata": {},
   "source": [
    "Question 3:\n",
    "Write a program that accepts a comma separated sequence of words as input and prints the words in a comma-separated sequence after sorting them alphabetically.\n",
    "Suppose the following input is supplied to the program: without,hello,bag,world Then, the output should be: bag,hello,without,world\n",
    "\n"
   ]
  },
  {
   "cell_type": "code",
   "execution_count": 5,
   "id": "fd2f5762-1ae4-4f07-b613-3a556f2a9321",
   "metadata": {},
   "outputs": [
    {
     "name": "stdin",
     "output_type": "stream",
     "text": [
      "Enter the Input String:  bis, bahi, is,\n"
     ]
    },
    {
     "name": "stdout",
     "output_type": "stream",
     "text": [
      "Output: , bahi, is,bis\n"
     ]
    }
   ],
   "source": [
    "in_string = input(\"Enter the Input String: \")\n",
    "out_string = ','.join(sorted(in_string.split(',')))\n",
    "print(f'Output: {out_string}')"
   ]
  },
  {
   "cell_type": "markdown",
   "id": "61186f3e-6a8e-40a2-a63f-68963762e2e9",
   "metadata": {},
   "source": [
    "Question 4:\n",
    "Write a program that accepts a sequence of whitespace separated words as input and prints the words after removing all duplicate words and sorting them alphanumerically.\n",
    "Suppose the following input is supplied to the program: hello world and practice makes perfect and hello world again Then, the output should be: again and hello makes perfect practice world\n",
    "\n"
   ]
  },
  {
   "cell_type": "code",
   "execution_count": 6,
   "id": "5f03e60d-523e-4790-bbf7-22547c8731e6",
   "metadata": {},
   "outputs": [
    {
     "name": "stdin",
     "output_type": "stream",
     "text": [
      "Enter the string:  bis bhai is good\n"
     ]
    },
    {
     "name": "stdout",
     "output_type": "stream",
     "text": [
      "Output: bhai bis good is\n"
     ]
    }
   ],
   "source": [
    "in_string = input('Enter the string: ')\n",
    "out_string = ' '.join(sorted(set(in_string.split(' '))))\n",
    "print(f'Output: {out_string}')"
   ]
  },
  {
   "cell_type": "markdown",
   "id": "25abad3e-f8df-4a90-990a-64b94f3dee87",
   "metadata": {},
   "source": [
    "Question 5:\n",
    "Write a program that accepts a sentence and calculate the number of letters and digits.\n",
    "Suppose the following input is supplied to the program: hello world! 123 Then, the output should be: LETTERS 10\n",
    "\n",
    "DIGITS 3\n",
    "\n"
   ]
  },
  {
   "cell_type": "code",
   "execution_count": 7,
   "id": "88961c9e-5fb7-4104-ae61-7aff3caa2d84",
   "metadata": {},
   "outputs": [
    {
     "name": "stdin",
     "output_type": "stream",
     "text": [
      "Enter a string:  bis bhai is good\n"
     ]
    },
    {
     "name": "stdout",
     "output_type": "stream",
     "text": [
      "LETTERS  13 \n",
      "DIGITS  0\n"
     ]
    }
   ],
   "source": [
    "in_string = input('Enter a string: ')\n",
    "alpha = 'ABCDEFGHIJKLMNOPQRSTUVWXYZabcdefghijklmnopqrstuvwxyz'\n",
    "num = '1234567890'\n",
    "L=0\n",
    "D=0\n",
    "for i in in_string : \n",
    "    if i in alpha:\n",
    "        L+=1\n",
    "    if i in num:\n",
    "        D+=1\n",
    "print('LETTERS ',L, '\\nDIGITS ',D)"
   ]
  },
  {
   "cell_type": "markdown",
   "id": "22f241b2-f5f1-4bdc-98d2-608c9e26e12d",
   "metadata": {},
   "source": [
    "Question 6:\n",
    "A website requires the users to input username and password to register. Write a program to check the validity of password input by users.\n",
    "Following are the criteria for checking the password:\n",
    "\n",
    "At least 1 letter between [a-z]\n",
    "At least 1 number between [0-9]\n",
    "At least 1 letter between [A-Z]\n",
    "At least 1 character from [$#@]\n",
    "Minimum length of transaction password: 6\n",
    "Maximum length of transaction password: 12\n",
    "Your program should accept a sequence of comma separated passwords and will check them according to the above criteria. Passwords that match the criteria are to be printed, each separated by a comma. Example If the following passwords are given as input to the program: ABd1234@1,a F1#,2w3E*,2We3345 Then, the output of the program should be: ABd1234@1\n"
   ]
  },
  {
   "cell_type": "code",
   "execution_count": 8,
   "id": "fff23b29-ae10-49c3-aee3-f4eba3df36c4",
   "metadata": {},
   "outputs": [
    {
     "name": "stdin",
     "output_type": "stream",
     "text": [
      "Enter the Input String:  ABd1234@1,a F1#,2w3E*,2We3345\n"
     ]
    },
    {
     "name": "stdout",
     "output_type": "stream",
     "text": [
      "ABd1234@1\n"
     ]
    }
   ],
   "source": [
    "\n",
    "in_string = input(\"Enter the Input String: \")\n",
    "small_list = \"abcdefghijklmnopqrstuvwxyz\"\n",
    "cap_list = \"ABCDEFGHIJKLMNOPQRSTUVWXYZ\"\n",
    "num_list = \"0123456789\"\n",
    "special_list = \"$#@\"\n",
    "for i in in_string.split(\",\"):\n",
    "    if len(i) <= 12 and len(i) >=6 :\n",
    "        if any(j.isupper() for j in i):\n",
    "            if any(j.islower() for j in i):\n",
    "                if any(j for j in i if j in special_list):\n",
    "                    print(i)"
   ]
  },
  {
   "cell_type": "code",
   "execution_count": null,
   "id": "a296fb69-904c-413c-a96a-3877b23e8798",
   "metadata": {},
   "outputs": [],
   "source": []
  }
 ],
 "metadata": {
  "kernelspec": {
   "display_name": "Python 3 (ipykernel)",
   "language": "python",
   "name": "python3"
  },
  "language_info": {
   "codemirror_mode": {
    "name": "ipython",
    "version": 3
   },
   "file_extension": ".py",
   "mimetype": "text/x-python",
   "name": "python",
   "nbconvert_exporter": "python",
   "pygments_lexer": "ipython3",
   "version": "3.10.6"
  }
 },
 "nbformat": 4,
 "nbformat_minor": 5
}
